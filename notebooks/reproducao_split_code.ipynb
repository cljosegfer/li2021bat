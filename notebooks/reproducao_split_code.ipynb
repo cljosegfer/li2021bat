{
 "cells": [
  {
   "cell_type": "markdown",
   "metadata": {},
   "source": [
    "# setup"
   ]
  },
  {
   "cell_type": "code",
   "execution_count": 1,
   "metadata": {},
   "outputs": [],
   "source": [
    "import os\n",
    "\n",
    "if os.getcwd().split('/')[-1] == 'notebooks':\n",
    "    os.chdir('..')"
   ]
  },
  {
   "cell_type": "code",
   "execution_count": 7,
   "metadata": {},
   "outputs": [],
   "source": [
    "import pandas as pd\n",
    "import pickle\n",
    "\n",
    "from scipy.io import loadmat, savemat\n",
    "from tqdm import tqdm"
   ]
  },
  {
   "cell_type": "markdown",
   "metadata": {},
   "source": [
    "# draft"
   ]
  },
  {
   "cell_type": "code",
   "execution_count": 3,
   "metadata": {},
   "outputs": [],
   "source": [
    "split_index = 'process/data_split/split1_clean.mat'"
   ]
  },
  {
   "cell_type": "code",
   "execution_count": 4,
   "metadata": {},
   "outputs": [],
   "source": [
    "split_idx = loadmat(split_index)\n",
    "\n",
    "train_index, val_index, test_index = split_idx['train_index'], split_idx['val_index'], split_idx['test_index']\n",
    "train_index = train_index.reshape((train_index.shape[1],))\n",
    "val_index = val_index.reshape((val_index.shape[1],))\n",
    "test_index = test_index.reshape((test_index.shape[1],))"
   ]
  },
  {
   "cell_type": "code",
   "execution_count": 5,
   "metadata": {},
   "outputs": [
    {
     "data": {
      "text/plain": [
       "{'__header__': b'MATLAB 5.0 MAT-file Platform: posix, Created on: Sat Jun 22 14:30:00 2024',\n",
       " '__version__': '1.0',\n",
       " '__globals__': [],\n",
       " 'train_index': array([[    0,     1,     2, ..., 42973, 42974, 42975]]),\n",
       " 'val_index': array([[   12,    14,    16, ..., 42954, 42961, 42965]]),\n",
       " 'test_index': array([[   10,    11,    13, ..., 42960, 42963, 42966]])}"
      ]
     },
     "execution_count": 5,
     "metadata": {},
     "output_type": "execute_result"
    }
   ],
   "source": [
    "split_idx"
   ]
  },
  {
   "cell_type": "markdown",
   "metadata": {},
   "source": [
    "# code"
   ]
  },
  {
   "cell_type": "code",
   "execution_count": 8,
   "metadata": {},
   "outputs": [],
   "source": [
    "metadata = pd.read_csv('/home/josegfer/datasets/code/data/exams.csv')"
   ]
  },
  {
   "cell_type": "code",
   "execution_count": 9,
   "metadata": {},
   "outputs": [],
   "source": [
    "with open('data/remove_id', 'rb') as fp:\n",
    "    remove = pickle.load(fp)"
   ]
  },
  {
   "cell_type": "code",
   "execution_count": 10,
   "metadata": {},
   "outputs": [
    {
     "name": "stderr",
     "output_type": "stream",
     "text": [
      "100%|██████████| 1677/1677 [00:32<00:00, 51.36it/s]\n"
     ]
    }
   ],
   "source": [
    "metadata_clean = metadata.copy()\n",
    "for exam_id in tqdm(remove):\n",
    "    metadata_clean = metadata_clean.drop(index = metadata_clean[metadata_clean['exam_id'] == exam_id].index)\n",
    "metadata_clean = metadata_clean.reset_index(drop = True)"
   ]
  },
  {
   "cell_type": "code",
   "execution_count": 11,
   "metadata": {},
   "outputs": [
    {
     "data": {
      "text/html": [
       "<div>\n",
       "<style scoped>\n",
       "    .dataframe tbody tr th:only-of-type {\n",
       "        vertical-align: middle;\n",
       "    }\n",
       "\n",
       "    .dataframe tbody tr th {\n",
       "        vertical-align: top;\n",
       "    }\n",
       "\n",
       "    .dataframe thead th {\n",
       "        text-align: right;\n",
       "    }\n",
       "</style>\n",
       "<table border=\"1\" class=\"dataframe\">\n",
       "  <thead>\n",
       "    <tr style=\"text-align: right;\">\n",
       "      <th></th>\n",
       "      <th>exam_id</th>\n",
       "      <th>age</th>\n",
       "      <th>is_male</th>\n",
       "      <th>nn_predicted_age</th>\n",
       "      <th>1dAVb</th>\n",
       "      <th>RBBB</th>\n",
       "      <th>LBBB</th>\n",
       "      <th>SB</th>\n",
       "      <th>ST</th>\n",
       "      <th>AF</th>\n",
       "      <th>patient_id</th>\n",
       "      <th>death</th>\n",
       "      <th>timey</th>\n",
       "      <th>normal_ecg</th>\n",
       "      <th>trace_file</th>\n",
       "    </tr>\n",
       "  </thead>\n",
       "  <tbody>\n",
       "    <tr>\n",
       "      <th>0</th>\n",
       "      <td>1169160</td>\n",
       "      <td>38</td>\n",
       "      <td>True</td>\n",
       "      <td>40.160484</td>\n",
       "      <td>False</td>\n",
       "      <td>False</td>\n",
       "      <td>False</td>\n",
       "      <td>False</td>\n",
       "      <td>False</td>\n",
       "      <td>False</td>\n",
       "      <td>523632</td>\n",
       "      <td>False</td>\n",
       "      <td>2.098628</td>\n",
       "      <td>True</td>\n",
       "      <td>exams_part13.hdf5</td>\n",
       "    </tr>\n",
       "    <tr>\n",
       "      <th>1</th>\n",
       "      <td>2873686</td>\n",
       "      <td>73</td>\n",
       "      <td>True</td>\n",
       "      <td>67.059440</td>\n",
       "      <td>False</td>\n",
       "      <td>False</td>\n",
       "      <td>False</td>\n",
       "      <td>False</td>\n",
       "      <td>False</td>\n",
       "      <td>False</td>\n",
       "      <td>1724173</td>\n",
       "      <td>False</td>\n",
       "      <td>6.657529</td>\n",
       "      <td>False</td>\n",
       "      <td>exams_part13.hdf5</td>\n",
       "    </tr>\n",
       "    <tr>\n",
       "      <th>2</th>\n",
       "      <td>168405</td>\n",
       "      <td>67</td>\n",
       "      <td>True</td>\n",
       "      <td>79.621740</td>\n",
       "      <td>False</td>\n",
       "      <td>False</td>\n",
       "      <td>False</td>\n",
       "      <td>False</td>\n",
       "      <td>False</td>\n",
       "      <td>True</td>\n",
       "      <td>51421</td>\n",
       "      <td>False</td>\n",
       "      <td>4.282188</td>\n",
       "      <td>False</td>\n",
       "      <td>exams_part13.hdf5</td>\n",
       "    </tr>\n",
       "    <tr>\n",
       "      <th>3</th>\n",
       "      <td>271011</td>\n",
       "      <td>41</td>\n",
       "      <td>True</td>\n",
       "      <td>69.750260</td>\n",
       "      <td>False</td>\n",
       "      <td>False</td>\n",
       "      <td>False</td>\n",
       "      <td>False</td>\n",
       "      <td>False</td>\n",
       "      <td>False</td>\n",
       "      <td>1737282</td>\n",
       "      <td>False</td>\n",
       "      <td>4.038353</td>\n",
       "      <td>True</td>\n",
       "      <td>exams_part13.hdf5</td>\n",
       "    </tr>\n",
       "    <tr>\n",
       "      <th>4</th>\n",
       "      <td>384368</td>\n",
       "      <td>73</td>\n",
       "      <td>True</td>\n",
       "      <td>78.873460</td>\n",
       "      <td>False</td>\n",
       "      <td>False</td>\n",
       "      <td>False</td>\n",
       "      <td>False</td>\n",
       "      <td>False</td>\n",
       "      <td>False</td>\n",
       "      <td>331652</td>\n",
       "      <td>False</td>\n",
       "      <td>3.786298</td>\n",
       "      <td>False</td>\n",
       "      <td>exams_part13.hdf5</td>\n",
       "    </tr>\n",
       "    <tr>\n",
       "      <th>...</th>\n",
       "      <td>...</td>\n",
       "      <td>...</td>\n",
       "      <td>...</td>\n",
       "      <td>...</td>\n",
       "      <td>...</td>\n",
       "      <td>...</td>\n",
       "      <td>...</td>\n",
       "      <td>...</td>\n",
       "      <td>...</td>\n",
       "      <td>...</td>\n",
       "      <td>...</td>\n",
       "      <td>...</td>\n",
       "      <td>...</td>\n",
       "      <td>...</td>\n",
       "      <td>...</td>\n",
       "    </tr>\n",
       "    <tr>\n",
       "      <th>344115</th>\n",
       "      <td>1123951</td>\n",
       "      <td>33</td>\n",
       "      <td>True</td>\n",
       "      <td>35.893005</td>\n",
       "      <td>False</td>\n",
       "      <td>False</td>\n",
       "      <td>False</td>\n",
       "      <td>False</td>\n",
       "      <td>False</td>\n",
       "      <td>False</td>\n",
       "      <td>770553</td>\n",
       "      <td>False</td>\n",
       "      <td>2.189039</td>\n",
       "      <td>True</td>\n",
       "      <td>exams_part2.hdf5</td>\n",
       "    </tr>\n",
       "    <tr>\n",
       "      <th>344116</th>\n",
       "      <td>954704</td>\n",
       "      <td>73</td>\n",
       "      <td>False</td>\n",
       "      <td>68.169136</td>\n",
       "      <td>False</td>\n",
       "      <td>False</td>\n",
       "      <td>False</td>\n",
       "      <td>False</td>\n",
       "      <td>False</td>\n",
       "      <td>False</td>\n",
       "      <td>1044781</td>\n",
       "      <td>False</td>\n",
       "      <td>2.520546</td>\n",
       "      <td>False</td>\n",
       "      <td>exams_part2.hdf5</td>\n",
       "    </tr>\n",
       "    <tr>\n",
       "      <th>344117</th>\n",
       "      <td>589697</td>\n",
       "      <td>75</td>\n",
       "      <td>False</td>\n",
       "      <td>78.080810</td>\n",
       "      <td>False</td>\n",
       "      <td>False</td>\n",
       "      <td>False</td>\n",
       "      <td>False</td>\n",
       "      <td>False</td>\n",
       "      <td>False</td>\n",
       "      <td>1020589</td>\n",
       "      <td>False</td>\n",
       "      <td>3.304107</td>\n",
       "      <td>False</td>\n",
       "      <td>exams_part2.hdf5</td>\n",
       "    </tr>\n",
       "    <tr>\n",
       "      <th>344118</th>\n",
       "      <td>2780563</td>\n",
       "      <td>44</td>\n",
       "      <td>False</td>\n",
       "      <td>73.120636</td>\n",
       "      <td>False</td>\n",
       "      <td>False</td>\n",
       "      <td>False</td>\n",
       "      <td>False</td>\n",
       "      <td>False</td>\n",
       "      <td>False</td>\n",
       "      <td>178</td>\n",
       "      <td>False</td>\n",
       "      <td>7.339720</td>\n",
       "      <td>False</td>\n",
       "      <td>exams_part2.hdf5</td>\n",
       "    </tr>\n",
       "    <tr>\n",
       "      <th>344119</th>\n",
       "      <td>1576698</td>\n",
       "      <td>27</td>\n",
       "      <td>False</td>\n",
       "      <td>31.939650</td>\n",
       "      <td>False</td>\n",
       "      <td>False</td>\n",
       "      <td>False</td>\n",
       "      <td>False</td>\n",
       "      <td>False</td>\n",
       "      <td>False</td>\n",
       "      <td>1597868</td>\n",
       "      <td>False</td>\n",
       "      <td>1.298629</td>\n",
       "      <td>False</td>\n",
       "      <td>exams_part2.hdf5</td>\n",
       "    </tr>\n",
       "  </tbody>\n",
       "</table>\n",
       "<p>344120 rows × 15 columns</p>\n",
       "</div>"
      ],
      "text/plain": [
       "        exam_id  age  is_male  nn_predicted_age  1dAVb   RBBB   LBBB     SB  \\\n",
       "0       1169160   38     True         40.160484  False  False  False  False   \n",
       "1       2873686   73     True         67.059440  False  False  False  False   \n",
       "2        168405   67     True         79.621740  False  False  False  False   \n",
       "3        271011   41     True         69.750260  False  False  False  False   \n",
       "4        384368   73     True         78.873460  False  False  False  False   \n",
       "...         ...  ...      ...               ...    ...    ...    ...    ...   \n",
       "344115  1123951   33     True         35.893005  False  False  False  False   \n",
       "344116   954704   73    False         68.169136  False  False  False  False   \n",
       "344117   589697   75    False         78.080810  False  False  False  False   \n",
       "344118  2780563   44    False         73.120636  False  False  False  False   \n",
       "344119  1576698   27    False         31.939650  False  False  False  False   \n",
       "\n",
       "           ST     AF  patient_id  death     timey  normal_ecg  \\\n",
       "0       False  False      523632  False  2.098628        True   \n",
       "1       False  False     1724173  False  6.657529       False   \n",
       "2       False   True       51421  False  4.282188       False   \n",
       "3       False  False     1737282  False  4.038353        True   \n",
       "4       False  False      331652  False  3.786298       False   \n",
       "...       ...    ...         ...    ...       ...         ...   \n",
       "344115  False  False      770553  False  2.189039        True   \n",
       "344116  False  False     1044781  False  2.520546       False   \n",
       "344117  False  False     1020589  False  3.304107       False   \n",
       "344118  False  False         178  False  7.339720       False   \n",
       "344119  False  False     1597868  False  1.298629       False   \n",
       "\n",
       "               trace_file  \n",
       "0       exams_part13.hdf5  \n",
       "1       exams_part13.hdf5  \n",
       "2       exams_part13.hdf5  \n",
       "3       exams_part13.hdf5  \n",
       "4       exams_part13.hdf5  \n",
       "...                   ...  \n",
       "344115   exams_part2.hdf5  \n",
       "344116   exams_part2.hdf5  \n",
       "344117   exams_part2.hdf5  \n",
       "344118   exams_part2.hdf5  \n",
       "344119   exams_part2.hdf5  \n",
       "\n",
       "[344120 rows x 15 columns]"
      ]
     },
     "execution_count": 11,
     "metadata": {},
     "output_type": "execute_result"
    }
   ],
   "source": [
    "metadata_clean"
   ]
  },
  {
   "cell_type": "code",
   "execution_count": 12,
   "metadata": {},
   "outputs": [],
   "source": [
    "def check_dataleakage(trn_metadata, val_metadata, tst_metadata, exam_id_col = 'exam_id'):\n",
    "    trn_ids = set(trn_metadata[exam_id_col].unique())\n",
    "    val_ids = set(val_metadata[exam_id_col].unique())\n",
    "    tst_ids = set(tst_metadata[exam_id_col].unique())\n",
    "    assert (len(trn_ids.intersection(val_ids)) == 0), \"Some IDs are present in both train and validation sets.\"\n",
    "    assert (len(trn_ids.intersection(tst_ids)) == 0), \"Some IDs are present in both train and test sets.\"\n",
    "    assert (len(val_ids.intersection(tst_ids)) == 0), \"Some IDs are present in both validation and test sets.\""
   ]
  },
  {
   "cell_type": "code",
   "execution_count": 16,
   "metadata": {},
   "outputs": [],
   "source": [
    "def split(metadata, val_size = 0.05, tst_size = 0.05, patient_id_col = 'patient_id'):\n",
    "    patient_ids = metadata[patient_id_col].unique()\n",
    "\n",
    "    num_trn = int(len(patient_ids) * (1 - tst_size - val_size))\n",
    "    num_val = int(len(patient_ids) * val_size)\n",
    "\n",
    "    trn_ids = set(patient_ids[:num_trn])\n",
    "    val_ids = set(patient_ids[num_trn : num_trn + num_val])\n",
    "    tst_ids = set(patient_ids[num_trn + num_val :])\n",
    "\n",
    "    trn_metadata = metadata.loc[metadata[patient_id_col].isin(trn_ids)]\n",
    "    val_metadata = metadata.loc[metadata[patient_id_col].isin(val_ids)]\n",
    "    tst_metadata = metadata.loc[metadata[patient_id_col].isin(tst_ids)]\n",
    "    check_dataleakage(trn_metadata, val_metadata, tst_metadata)\n",
    "\n",
    "    return trn_metadata, val_metadata, tst_metadata"
   ]
  },
  {
   "cell_type": "code",
   "execution_count": 17,
   "metadata": {},
   "outputs": [],
   "source": [
    "trn_metadata, val_metadata, tst_metadata = split(metadata_clean)"
   ]
  },
  {
   "cell_type": "code",
   "execution_count": 21,
   "metadata": {},
   "outputs": [
    {
     "data": {
      "text/plain": [
       "(array([     0,      1,      2, ..., 344112, 344113, 344118]),\n",
       " array([297169, 297170, 297172, ..., 344000, 344024, 344067]),\n",
       " array([319905, 319906, 319907, ..., 344116, 344117, 344119]))"
      ]
     },
     "execution_count": 21,
     "metadata": {},
     "output_type": "execute_result"
    }
   ],
   "source": [
    "trn_metadata.index.values, val_metadata.index.values, tst_metadata.index.values"
   ]
  },
  {
   "cell_type": "code",
   "execution_count": 25,
   "metadata": {},
   "outputs": [
    {
     "data": {
      "text/plain": [
       "{'__header__': b'MATLAB 5.0 MAT-file Platform: posix, Created on: Sat Jun 22 14:30:00 2024',\n",
       " '__version__': '1.0',\n",
       " '__globals__': [],\n",
       " 'train_index': array([     0,      1,      2, ..., 344112, 344113, 344118]),\n",
       " 'val_index': array([297169, 297170, 297172, ..., 344000, 344024, 344067]),\n",
       " 'test_index': array([319905, 319906, 319907, ..., 344116, 344117, 344119])}"
      ]
     },
     "execution_count": 25,
     "metadata": {},
     "output_type": "execute_result"
    }
   ],
   "source": [
    "split_idx['train_index'] = trn_metadata.index.values\n",
    "split_idx['val_index'] = val_metadata.index.values\n",
    "split_idx['test_index'] = tst_metadata.index.values\n",
    "split_idx"
   ]
  },
  {
   "cell_type": "code",
   "execution_count": 26,
   "metadata": {},
   "outputs": [],
   "source": [
    "savemat('data/split_code.mat', split_idx)"
   ]
  },
  {
   "cell_type": "code",
   "execution_count": null,
   "metadata": {},
   "outputs": [],
   "source": []
  }
 ],
 "metadata": {
  "kernelspec": {
   "display_name": "li2021bat",
   "language": "python",
   "name": "python3"
  },
  "language_info": {
   "codemirror_mode": {
    "name": "ipython",
    "version": 3
   },
   "file_extension": ".py",
   "mimetype": "text/x-python",
   "name": "python",
   "nbconvert_exporter": "python",
   "pygments_lexer": "ipython3",
   "version": "3.8.8"
  }
 },
 "nbformat": 4,
 "nbformat_minor": 2
}
