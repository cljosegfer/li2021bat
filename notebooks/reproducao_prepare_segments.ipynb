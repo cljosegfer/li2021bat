{
 "cells": [
  {
   "cell_type": "markdown",
   "metadata": {},
   "source": [
    "# setup"
   ]
  },
  {
   "cell_type": "code",
   "execution_count": 1,
   "metadata": {},
   "outputs": [],
   "source": [
    "import os\n",
    "\n",
    "if os.getcwd().split('/')[-1] == 'notebooks':\n",
    "    os.chdir('..')"
   ]
  },
  {
   "cell_type": "code",
   "execution_count": 2,
   "metadata": {},
   "outputs": [],
   "source": [
    "import numpy as np\n",
    "import h5py\n",
    "\n",
    "from tqdm import tqdm"
   ]
  },
  {
   "cell_type": "code",
   "execution_count": 3,
   "metadata": {},
   "outputs": [],
   "source": [
    "from data_loader.util import load_label_files, load_challenge_data, resample, slide_and_cut_beat_aligned, load_labels, load_weights"
   ]
  },
  {
   "cell_type": "markdown",
   "metadata": {},
   "source": [
    "# read"
   ]
  },
  {
   "cell_type": "code",
   "execution_count": 4,
   "metadata": {},
   "outputs": [],
   "source": [
    "# Define the weights, the SNOMED CT code for the normal class, and equivalent SNOMED CT codes.\n",
    "weights_file = 'weights.csv'\n",
    "normal_class = '426783006'\n",
    "equivalent_classes = [['713427006', '59118001'], ['284470004', '63593006'], ['427172004', '17338001']]"
   ]
  },
  {
   "cell_type": "code",
   "execution_count": 5,
   "metadata": {},
   "outputs": [
    {
     "name": "stdout",
     "output_type": "stream",
     "text": [
      "Finding label and output files...\n"
     ]
    }
   ],
   "source": [
    "input_directory_label = '/home/josegfer/datasets/challenge2020/data'\n",
    "label_dir = '/home/josegfer/datasets/challenge2020/data'\n",
    "# Find the label files.\n",
    "print('Finding label and output files...')\n",
    "label_files = load_label_files(input_directory_label)"
   ]
  },
  {
   "cell_type": "code",
   "execution_count": 6,
   "metadata": {},
   "outputs": [
    {
     "name": "stdout",
     "output_type": "stream",
     "text": [
      "Loading labels...\n"
     ]
    }
   ],
   "source": [
    "print('Loading labels...')\n",
    "classes, labels_onehot, labels = load_labels(label_files, normal_class,\n",
    "                                                                    equivalent_classes)"
   ]
  },
  {
   "cell_type": "code",
   "execution_count": 7,
   "metadata": {},
   "outputs": [
    {
     "name": "stdout",
     "output_type": "stream",
     "text": [
      "Loading weights...\n",
      "/home/josegfer/li2021bat\n"
     ]
    }
   ],
   "source": [
    "print('Loading weights...')\n",
    "weights = load_weights(weights_file, classes)"
   ]
  },
  {
   "cell_type": "code",
   "execution_count": 8,
   "metadata": {},
   "outputs": [],
   "source": [
    "indices = np.any(weights, axis=0)  # Find indices of classes in weight matrix.\n",
    "indices_unscored = ~indices"
   ]
  },
  {
   "cell_type": "code",
   "execution_count": 9,
   "metadata": {},
   "outputs": [],
   "source": [
    "### class for dataset\n",
    "CPSC_classes = ['270492004', '164889003', '164909002', '284470004', '426783006',\n",
    "                '713427006']  # \"59118001\" = \"713427006\"\n",
    "CPSC_class_weight = np.zeros((108,))\n",
    "for cla in CPSC_classes:\n",
    "    CPSC_class_weight[classes.index(cla)] = 1\n",
    "# CPSC_extra\n",
    "CPSC_extra_excluded_classes = ['445118002', '39732003', '251146004', '698252002', '10370003', '164947007',\n",
    "                                '111975006', '164917005', '47665007', '427393009', '426783006', '59931005']\n",
    "CPSC_extra_class_weight = np.ones((108,))\n",
    "for cla in CPSC_extra_excluded_classes:\n",
    "    CPSC_extra_class_weight[classes.index(cla)] = 0\n",
    "# PTB-XL\n",
    "PTB_XL_excluded_classes = ['426627000', '427172004']  # , '17338001'\n",
    "PTB_XL_class_weight = np.ones((108,))\n",
    "for cla in PTB_XL_excluded_classes:\n",
    "    PTB_XL_class_weight[classes.index(cla)] = 0\n",
    "# G12ECG\n",
    "G12ECG_excluded_classes = ['10370003', '164947007']\n",
    "G12ECG_class_weight = np.ones((108,))\n",
    "for cla in G12ECG_excluded_classes:\n",
    "    G12ECG_class_weight[classes.index(cla)] = 0"
   ]
  },
  {
   "cell_type": "markdown",
   "metadata": {},
   "source": [
    "# loop"
   ]
  },
  {
   "cell_type": "code",
   "execution_count": 10,
   "metadata": {},
   "outputs": [],
   "source": [
    "num_files = len(label_files)\n",
    "# num_files = 5\n",
    "n_lead = 12\n",
    "n_segment = 10\n",
    "beat_length = 400\n",
    "n_classes = len(classes)"
   ]
  },
  {
   "cell_type": "code",
   "execution_count": 11,
   "metadata": {},
   "outputs": [],
   "source": [
    "h5f = h5py.File('data/challenge2020.h5', 'w')\n",
    "x = h5f.create_dataset('recording', (num_files, n_lead, n_segment, beat_length), dtype='f8')\n",
    "r = h5f.create_dataset('ratio', (num_files, 1, n_segment), dtype='f8')\n",
    "y = h5f.create_dataset('label', (num_files, n_classes), dtype='bool')\n",
    "w = h5f.create_dataset('weight', (num_files, n_classes), dtype='f8')"
   ]
  },
  {
   "cell_type": "code",
   "execution_count": 12,
   "metadata": {},
   "outputs": [
    {
     "name": "stderr",
     "output_type": "stream",
     "text": [
      "100%|██████████| 42976/42976 [26:39<00:00, 26.87it/s]   \n"
     ]
    }
   ],
   "source": [
    "for i in tqdm(range(num_files)):\n",
    "    recording, header, name = load_challenge_data(label_files[i], label_dir)\n",
    "    recording[np.isnan(recording)] = 0\n",
    "\n",
    "    # divide ADC_gain and resample\n",
    "    recording = resample(recording, header, 500)\n",
    "\n",
    "    if name[0] == 'S' or name[0] == 'I': # PTB or St.P dataset\n",
    "        pass\n",
    "    elif name[0] == 'A': # CPSC\n",
    "        class_weight = CPSC_class_weight\n",
    "    elif name[0] == 'Q': # CPSC-extra\n",
    "        class_weight = CPSC_extra_class_weight\n",
    "    elif name[0] == 'H': # PTB-XL\n",
    "        class_weight = PTB_XL_class_weight\n",
    "    elif name[0] == 'E': # G12ECG\n",
    "        class_weight = G12ECG_class_weight\n",
    "    else:\n",
    "        print('warning! not from one of the datasets')\n",
    "        print(name)\n",
    "\n",
    "    # slide and cut\n",
    "    recording, info2save = slide_and_cut_beat_aligned(recording, 1, 5000, 500,\n",
    "                                                    seg_with_r=False, beat_length=400)\n",
    "    x[i, :, :, :] = np.transpose(recording, (0, 2, 1, 3))\n",
    "    r[i, :, :] = info2save\n",
    "    y[i, :] = labels_onehot[i]\n",
    "    w[i, :] = class_weight"
   ]
  },
  {
   "cell_type": "code",
   "execution_count": 13,
   "metadata": {},
   "outputs": [],
   "source": [
    "h5f.close()"
   ]
  }
 ],
 "metadata": {
  "kernelspec": {
   "display_name": "li2021bat",
   "language": "python",
   "name": "python3"
  },
  "language_info": {
   "codemirror_mode": {
    "name": "ipython",
    "version": 3
   },
   "file_extension": ".py",
   "mimetype": "text/x-python",
   "name": "python",
   "nbconvert_exporter": "python",
   "pygments_lexer": "ipython3",
   "version": "3.8.8"
  }
 },
 "nbformat": 4,
 "nbformat_minor": 2
}
