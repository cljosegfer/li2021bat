{
 "cells": [
  {
   "cell_type": "markdown",
   "metadata": {},
   "source": [
    "# setup"
   ]
  },
  {
   "cell_type": "code",
   "execution_count": 1,
   "metadata": {},
   "outputs": [],
   "source": [
    "import os\n",
    "\n",
    "if os.getcwd().split('/')[-1] == 'notebooks':\n",
    "    os.chdir('..')"
   ]
  },
  {
   "cell_type": "code",
   "execution_count": 2,
   "metadata": {},
   "outputs": [],
   "source": [
    "import numpy as np\n",
    "import h5py\n",
    "\n",
    "from tqdm import tqdm"
   ]
  },
  {
   "cell_type": "code",
   "execution_count": 3,
   "metadata": {},
   "outputs": [],
   "source": [
    "from data_loader.util import load_label_files, load_challenge_data, resample, slide_and_cut_beat_aligned"
   ]
  },
  {
   "cell_type": "markdown",
   "metadata": {},
   "source": [
    "# read"
   ]
  },
  {
   "cell_type": "code",
   "execution_count": 4,
   "metadata": {},
   "outputs": [],
   "source": [
    "# Define the weights, the SNOMED CT code for the normal class, and equivalent SNOMED CT codes.\n",
    "weights_file = 'weights.csv'\n",
    "normal_class = '426783006'\n",
    "equivalent_classes = [['713427006', '59118001'], ['284470004', '63593006'], ['427172004', '17338001']]"
   ]
  },
  {
   "cell_type": "code",
   "execution_count": 5,
   "metadata": {},
   "outputs": [
    {
     "name": "stdout",
     "output_type": "stream",
     "text": [
      "Finding label and output files...\n"
     ]
    }
   ],
   "source": [
    "input_directory_label = '/home/josegfer/datasets/challenge2020/data'\n",
    "label_dir = '/home/josegfer/datasets/challenge2020/data'\n",
    "# Find the label files.\n",
    "print('Finding label and output files...')\n",
    "label_files = load_label_files(input_directory_label)"
   ]
  },
  {
   "cell_type": "markdown",
   "metadata": {},
   "source": [
    "# loop"
   ]
  },
  {
   "cell_type": "code",
   "execution_count": 6,
   "metadata": {},
   "outputs": [],
   "source": [
    "num_files = len(label_files)\n",
    "# num_files = 5\n",
    "n_lead = 12\n",
    "n_segment = 10\n",
    "beat_length = 400"
   ]
  },
  {
   "cell_type": "code",
   "execution_count": 7,
   "metadata": {},
   "outputs": [],
   "source": [
    "h5f = h5py.File('data/challenge2020.h5', 'w')\n",
    "X = h5f.create_dataset('recording', (num_files, n_lead, n_segment, beat_length), dtype='f8')\n",
    "r = h5f.create_dataset('ratio', (num_files, 1, n_segment), dtype='f8')"
   ]
  },
  {
   "cell_type": "code",
   "execution_count": 8,
   "metadata": {},
   "outputs": [
    {
     "name": "stderr",
     "output_type": "stream",
     "text": [
      "100%|██████████| 42976/42976 [27:11<00:00, 26.34it/s]   \n"
     ]
    }
   ],
   "source": [
    "for i in tqdm(range(num_files)):\n",
    "    recording, header, name = load_challenge_data(label_files[i], label_dir)\n",
    "    recording[np.isnan(recording)] = 0\n",
    "\n",
    "    # divide ADC_gain and resample\n",
    "    recording = resample(recording, header, 500)\n",
    "\n",
    "    # slide and cut\n",
    "    recording, info2save = slide_and_cut_beat_aligned(recording, 1, 5000, 500,\n",
    "                                                    seg_with_r=False, beat_length=400)\n",
    "    X[i, :, :, :] = np.transpose(recording, (0, 2, 1, 3))\n",
    "    r[i, :, :] = info2save"
   ]
  },
  {
   "cell_type": "code",
   "execution_count": 9,
   "metadata": {},
   "outputs": [],
   "source": [
    "h5f.close()"
   ]
  }
 ],
 "metadata": {
  "kernelspec": {
   "display_name": "li2021bat",
   "language": "python",
   "name": "python3"
  },
  "language_info": {
   "codemirror_mode": {
    "name": "ipython",
    "version": 3
   },
   "file_extension": ".py",
   "mimetype": "text/x-python",
   "name": "python",
   "nbconvert_exporter": "python",
   "pygments_lexer": "ipython3",
   "version": "3.8.8"
  }
 },
 "nbformat": 4,
 "nbformat_minor": 2
}
