{
 "cells": [
  {
   "cell_type": "markdown",
   "metadata": {},
   "source": [
    "# setup"
   ]
  },
  {
   "cell_type": "code",
   "execution_count": 1,
   "metadata": {},
   "outputs": [],
   "source": [
    "import os\n",
    "\n",
    "if os.getcwd().split('/')[-1] == 'notebooks':\n",
    "    os.chdir('..')"
   ]
  },
  {
   "cell_type": "code",
   "execution_count": 2,
   "metadata": {},
   "outputs": [],
   "source": [
    "import numpy as np\n",
    "\n",
    "from scipy.io import loadmat, savemat"
   ]
  },
  {
   "cell_type": "markdown",
   "metadata": {},
   "source": [
    "# read"
   ]
  },
  {
   "cell_type": "code",
   "execution_count": 3,
   "metadata": {},
   "outputs": [],
   "source": [
    "split_index = 'process/data_split/split1.mat'\n",
    "lim = 42975"
   ]
  },
  {
   "cell_type": "code",
   "execution_count": 4,
   "metadata": {},
   "outputs": [],
   "source": [
    "split_idx = loadmat(split_index)\n",
    "train_index, val_index, test_index = split_idx['train_index'], split_idx['val_index'], split_idx['test_index']\n",
    "train_index = train_index.reshape((train_index.shape[1],))\n",
    "val_index = val_index.reshape((val_index.shape[1],))"
   ]
  },
  {
   "cell_type": "code",
   "execution_count": 5,
   "metadata": {},
   "outputs": [
    {
     "data": {
      "text/plain": [
       "{'__header__': b'MATLAB 5.0 MAT-file Platform: posix, Created on: Fri Jul 31 20:26:05 2020',\n",
       " '__version__': '1.0',\n",
       " '__globals__': [],\n",
       " 'train_index': array([[    0,     1,     2, ..., 43098, 43099, 43100]]),\n",
       " 'val_index': array([[   12,    14,    16, ..., 43066, 43067, 43075]]),\n",
       " 'test_index': array([[   10,    11,    13, ..., 43070, 43071, 43097]])}"
      ]
     },
     "execution_count": 5,
     "metadata": {},
     "output_type": "execute_result"
    }
   ],
   "source": [
    "split_idx"
   ]
  },
  {
   "cell_type": "code",
   "execution_count": 6,
   "metadata": {},
   "outputs": [],
   "source": [
    "split_idx['train_index'] = np.delete(split_idx['train_index'], np.where(split_idx['train_index'] > lim)[-1])\n",
    "split_idx['val_index'] = np.delete(split_idx['val_index'], np.where(split_idx['val_index'] > lim)[-1])\n",
    "split_idx['test_index'] = np.delete(split_idx['test_index'], np.where(split_idx['test_index'] > lim)[-1])"
   ]
  },
  {
   "cell_type": "code",
   "execution_count": 7,
   "metadata": {},
   "outputs": [],
   "source": [
    "savemat('process/data_split/split1_clean.mat', split_idx)"
   ]
  }
 ],
 "metadata": {
  "kernelspec": {
   "display_name": "li2021bat",
   "language": "python",
   "name": "python3"
  },
  "language_info": {
   "codemirror_mode": {
    "name": "ipython",
    "version": 3
   },
   "file_extension": ".py",
   "mimetype": "text/x-python",
   "name": "python",
   "nbconvert_exporter": "python",
   "pygments_lexer": "ipython3",
   "version": "3.8.8"
  }
 },
 "nbformat": 4,
 "nbformat_minor": 2
}
