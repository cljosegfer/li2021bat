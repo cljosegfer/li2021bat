{
 "cells": [
  {
   "cell_type": "markdown",
   "metadata": {},
   "source": [
    "# setup"
   ]
  },
  {
   "cell_type": "code",
   "execution_count": 1,
   "metadata": {},
   "outputs": [],
   "source": [
    "import os\n",
    "\n",
    "if os.getcwd().split('/')[-1] == 'notebooks':\n",
    "    os.chdir('..')"
   ]
  },
  {
   "cell_type": "code",
   "execution_count": 9,
   "metadata": {},
   "outputs": [],
   "source": [
    "import numpy as np\n",
    "import torch\n",
    "import h5py\n",
    "\n",
    "from scipy.io import loadmat\n",
    "from base import BaseDataLoader\n",
    "from torch.utils.data import Dataset\n",
    "from torchvision import transforms"
   ]
  },
  {
   "cell_type": "code",
   "execution_count": null,
   "metadata": {},
   "outputs": [],
   "source": [
    "import augmentation.augmentation as module_augmentation"
   ]
  },
  {
   "cell_type": "markdown",
   "metadata": {},
   "source": [
    "# init"
   ]
  },
  {
   "cell_type": "code",
   "execution_count": 4,
   "metadata": {},
   "outputs": [],
   "source": [
    "label_dir = '/home/josegfer/datasets/challenge2020/data'\n",
    "split_index = 'process/data_split/split1.mat'"
   ]
  },
  {
   "cell_type": "markdown",
   "metadata": {},
   "source": [
    "# classes"
   ]
  },
  {
   "cell_type": "code",
   "execution_count": 36,
   "metadata": {},
   "outputs": [],
   "source": [
    "class CustomTensorDataset_BeatAligned_h5(Dataset):\n",
    "    \"\"\"TensorDataset with support of transforms.\n",
    "    \"\"\"\n",
    "    def __init__(self, database, split_idx, transform=None, p=0.5):\n",
    "        # assert all(tensors[0].size(0) == tensor.size(0) for tensor in tensors)\n",
    "        self.database = database\n",
    "        self.split_idx = split_idx\n",
    "        self.transform = transform\n",
    "        self.p = p\n",
    "        self.leads_index = [0, 1, 6, 7, 8, 9, 10, 11]\n",
    "\n",
    "    def __getitem__(self, index):\n",
    "        # x = self.tensors[0][0][index]\n",
    "        # x2 = self.tensors[0][1][index]\n",
    "        # torch.randn(1)\n",
    "        x = self.database['recording'][self.split_idx[index], self.leads_index, :, :]\n",
    "        x2 = self.database['ratio'][self.split_idx[index]]\n",
    "\n",
    "        if self.transform:\n",
    "            if torch.rand(1) >= self.p:\n",
    "                x = self.transform(x)\n",
    "\n",
    "        # y = self.tensors[1][index]\n",
    "        # w = self.tensors[2][index]\n",
    "        y = self.database['label'][self.split_idx[index]]\n",
    "        w = self.database['weight'][self.split_idx[index]]\n",
    "\n",
    "        return [x, x2], y, w\n",
    "\n",
    "    def __len__(self):\n",
    "        # return self.tensors[0][0].size(0)\n",
    "        return len(self.split_idx)"
   ]
  },
  {
   "cell_type": "code",
   "execution_count": 37,
   "metadata": {},
   "outputs": [],
   "source": [
    "class ChallengeDataLoader_beat_aligned_data_h5(BaseDataLoader):\n",
    "    \"\"\"\n",
    "    challenge2020 data loading\n",
    "    \"\"\"\n",
    "\n",
    "    def __init__(self, label_dir, split_index, batch_size, shuffle=True, num_workers=0, resample_Fs=300,\n",
    "                 window_size=3000, n_segment=1, normalization=False, augmentations=None, p=0.5, _25classes=False,\n",
    "                 lead_number=12, save_data=False, load_saved_data=True, save_dir=None, seg_with_r=False, beat_length=400):\n",
    "\n",
    "        split_idx = loadmat(split_index)\n",
    "        train_index, val_index, test_index = split_idx['train_index'], split_idx['val_index'], split_idx['test_index']\n",
    "        train_index = train_index.reshape((train_index.shape[1],))\n",
    "        val_index = val_index.reshape((val_index.shape[1],))\n",
    "\n",
    "        self.hdf5_file = h5py.File('data/challenge2020.h5', 'r')\n",
    "\n",
    "        # leads_index = [0, 1, 2, 3, 4, 5, 6, 7, 8, 9, 10, 11]\n",
    "        # if lead_number == 2:\n",
    "        #     # two leads\n",
    "        #     leads_index = [1, 10]\n",
    "        # elif lead_number == 3:\n",
    "        #     # three leads\n",
    "        #     leads_index = [0, 1, 7]\n",
    "        # elif lead_number == 6:\n",
    "        #     # six leads\n",
    "        #     leads_index = [0, 1, 2, 3, 4, 5]\n",
    "        # else:\n",
    "        #     # eight leads\n",
    "        #     leads_index = [0, 1, 6, 7, 8, 9, 10, 11]\n",
    "\n",
    "        # ### different leads in the same shape\n",
    "        # print(X_train.shape, X_val.shape)\n",
    "        # X_train_tmp = X_train[:, leads_index, :, :]\n",
    "        # X_val_tmp = X_val[:, leads_index, :, :]\n",
    "\n",
    "        if augmentations:\n",
    "            transformers = list()\n",
    "\n",
    "            for key, value in augmentations.items():\n",
    "                module_args = dict(value['args'])\n",
    "                transformers.append(getattr(module_augmentation, key)(**module_args))\n",
    "\n",
    "            train_transform = transforms.Compose(transformers)\n",
    "            self.train_dataset = CustomTensorDataset_BeatAligned_h5(database = self.hdf5_file, split_idx = train_index, \n",
    "                                                                    transform=train_transform, p=p)\n",
    "        else:\n",
    "            self.train_dataset = CustomTensorDataset_BeatAligned_h5(database = self.hdf5_file, split_idx = train_index)\n",
    "        self.val_dataset = CustomTensorDataset_BeatAligned_h5(database = self.hdf5_file, split_idx = val_index)\n",
    "        self.test_dataset = CustomTensorDataset_BeatAligned_h5(database = self.hdf5_file, split_idx = test_index)\n",
    "\n",
    "        super().__init__(self.train_dataset, self.val_dataset, self.test_dataset, batch_size, shuffle, num_workers)\n",
    "\n",
    "    def normalization(self, X):\n",
    "        return X"
   ]
  },
  {
   "cell_type": "markdown",
   "metadata": {},
   "source": [
    "# draft"
   ]
  },
  {
   "cell_type": "code",
   "execution_count": 40,
   "metadata": {},
   "outputs": [],
   "source": [
    "database = ChallengeDataLoader_beat_aligned_data_h5(label_dir = label_dir, split_index = split_index, batch_size = 16)"
   ]
  },
  {
   "cell_type": "code",
   "execution_count": 41,
   "metadata": {},
   "outputs": [
    {
     "data": {
      "text/plain": [
       "(torch.Size([16, 8, 10, 400]),\n",
       " torch.Size([16, 1, 10]),\n",
       " torch.Size([16, 108]),\n",
       " torch.Size([16, 108]))"
      ]
     },
     "execution_count": 41,
     "metadata": {},
     "output_type": "execute_result"
    }
   ],
   "source": [
    "for batch_idx, ([data, info], target, class_weights) in enumerate(database):\n",
    "    break\n",
    "data.shape, info.shape, target.shape, class_weights.shape"
   ]
  },
  {
   "cell_type": "code",
   "execution_count": null,
   "metadata": {},
   "outputs": [],
   "source": []
  }
 ],
 "metadata": {
  "kernelspec": {
   "display_name": "li2021bat",
   "language": "python",
   "name": "python3"
  },
  "language_info": {
   "codemirror_mode": {
    "name": "ipython",
    "version": 3
   },
   "file_extension": ".py",
   "mimetype": "text/x-python",
   "name": "python",
   "nbconvert_exporter": "python",
   "pygments_lexer": "ipython3",
   "version": "3.8.8"
  }
 },
 "nbformat": 4,
 "nbformat_minor": 2
}
