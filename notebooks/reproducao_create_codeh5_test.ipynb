{
 "cells": [
  {
   "cell_type": "markdown",
   "metadata": {},
   "source": [
    "# setup"
   ]
  },
  {
   "cell_type": "code",
   "execution_count": 1,
   "metadata": {},
   "outputs": [],
   "source": [
    "import os\n",
    "\n",
    "if os.getcwd().split('/')[-1] == 'notebooks':\n",
    "    os.chdir('..')"
   ]
  },
  {
   "cell_type": "code",
   "execution_count": 2,
   "metadata": {},
   "outputs": [],
   "source": [
    "import numpy as np\n",
    "import h5py\n",
    "import pandas as pd\n",
    "import pickle\n",
    "\n",
    "from tqdm import tqdm\n",
    "from scipy import signal\n",
    "\n",
    "from data_loader.util import slide_and_cut_beat_aligned"
   ]
  },
  {
   "cell_type": "code",
   "execution_count": 3,
   "metadata": {},
   "outputs": [],
   "source": [
    "def just_resample(data, sample_Fs = 400, resample_Fs = 500):\n",
    "    sample_len = data.shape[1]\n",
    "    resample_len = int(sample_len * (resample_Fs / sample_Fs))\n",
    "    resample_data = signal.resample(data, resample_len, axis=1, window=None)\n",
    "\n",
    "    return resample_data"
   ]
  },
  {
   "cell_type": "markdown",
   "metadata": {},
   "source": [
    "# read"
   ]
  },
  {
   "cell_type": "code",
   "execution_count": 4,
   "metadata": {},
   "outputs": [],
   "source": [
    "code_test = h5py.File('/home/josegfer/datasets/code/data/codetest/data/ecg_tracings.hdf5', 'r')\n",
    "metadata_test = pd.read_csv('/home/josegfer/datasets/code/data/codetest/data/annotations/gold_standard.csv')\n",
    "label_columns = ['1dAVb', 'RBBB', 'LBBB', 'SB', 'ST', 'AF']"
   ]
  },
  {
   "cell_type": "markdown",
   "metadata": {},
   "source": [
    "# clean"
   ]
  },
  {
   "cell_type": "code",
   "execution_count": 5,
   "metadata": {},
   "outputs": [],
   "source": [
    "# with open('data/remove_id', 'rb') as fp:\n",
    "#     remove = pickle.load(fp)\n",
    "# metadata_clean = metadata.copy()\n",
    "# for exam_id in tqdm(remove):\n",
    "#     metadata_clean = metadata_clean.drop(index = metadata_clean[metadata_clean['exam_id'] == exam_id].index)\n",
    "\n",
    "# indices, h5_indices, csv_indices = np.intersect1d(code15['exam_id'], metadata_clean['exam_id'], assume_unique = True, return_indices = True)"
   ]
  },
  {
   "cell_type": "code",
   "execution_count": 6,
   "metadata": {},
   "outputs": [],
   "source": [
    "# output = []\n",
    "# for idx, row in tqdm(metadata_clean.iterrows()):\n",
    "#     exam_id = row['exam_id']\n",
    "#     h5_idx = h5_indices[indices == exam_id]\n",
    "#     output.append(h5_idx[0])\n",
    "# metadata_clean.insert(len(metadata_clean.columns), 'h5_idx', output)\n",
    "# metadata_clean = metadata_clean.reset_index(drop = True)"
   ]
  },
  {
   "cell_type": "markdown",
   "metadata": {},
   "source": [
    "# segments"
   ]
  },
  {
   "cell_type": "code",
   "execution_count": 7,
   "metadata": {},
   "outputs": [],
   "source": [
    "num_files = len(metadata_test)\n",
    "n_lead = 12\n",
    "n_segment = 10\n",
    "beat_length = 400\n",
    "n_classes = 6"
   ]
  },
  {
   "cell_type": "code",
   "execution_count": 8,
   "metadata": {},
   "outputs": [],
   "source": [
    "h5f = h5py.File('data/codetestbat.h5', 'w')\n",
    "\n",
    "x = h5f.create_dataset('recording', (num_files, n_lead, n_segment, beat_length), dtype = code_test['tracings'].dtype)\n",
    "r = h5f.create_dataset('ratio', (num_files, 1, n_segment), dtype = 'f8')\n",
    "y = h5f.create_dataset('label', (num_files, n_classes), dtype = 'bool')\n",
    "# id = h5f.create_dataset('exam_id', shape = (num_files, ), dtype = code15['exam_id'].dtype)\n",
    "id = h5f.create_dataset('exam_id', shape = (num_files, ), dtype = 'int64')"
   ]
  },
  {
   "cell_type": "code",
   "execution_count": 12,
   "metadata": {},
   "outputs": [
    {
     "name": "stderr",
     "output_type": "stream",
     "text": [
      "441it [00:10, 47.66it/s]/home/josegfer/miniconda3/envs/li2021bat/lib/python3.8/site-packages/neurokit2/signal/signal_period.py:60: NeuroKitWarning: Too few peaks detected to compute the rate. Returning empty vector.\n",
      "  warn(\n",
      "/home/josegfer/miniconda3/envs/li2021bat/lib/python3.8/site-packages/neurokit2/signal/signal_period.py:60: NeuroKitWarning: Too few peaks detected to compute the rate. Returning empty vector.\n",
      "  warn(\n",
      "827it [00:18, 44.88it/s]\n"
     ]
    }
   ],
   "source": [
    "for idx, row in tqdm(metadata_test.iterrows()):\n",
    "    recording = code_test['tracings'][idx].T\n",
    "    onehot = row[label_columns].to_numpy(dtype = 'bool')\n",
    "    # exam_id = code_test['exam_id'][h5_idx]\n",
    "    exam_id = idx\n",
    "    # assert exam_id == row['exam_id']\n",
    "\n",
    "    # resample\n",
    "    recording = just_resample(recording, sample_Fs = 400, resample_Fs = 500)\n",
    "    # slide and cut\n",
    "    scbeat, info2save = slide_and_cut_beat_aligned(recording, n_segment = 1, window_size = 5000, sampling_rate = 500, \n",
    "                                                   seg_with_r = False, beat_length = 400)\n",
    "    \n",
    "    x[idx, :, :, :] = np.transpose(scbeat, (0, 2, 1, 3))\n",
    "    r[idx, :, :] = info2save\n",
    "    y[idx, :] = onehot\n",
    "    id[idx] = exam_id"
   ]
  },
  {
   "cell_type": "code",
   "execution_count": 13,
   "metadata": {},
   "outputs": [],
   "source": [
    "code_test.close()\n",
    "h5f.close()"
   ]
  }
 ],
 "metadata": {
  "kernelspec": {
   "display_name": "li2021bat",
   "language": "python",
   "name": "python3"
  },
  "language_info": {
   "codemirror_mode": {
    "name": "ipython",
    "version": 3
   },
   "file_extension": ".py",
   "mimetype": "text/x-python",
   "name": "python",
   "nbconvert_exporter": "python",
   "pygments_lexer": "ipython3",
   "version": "3.8.8"
  }
 },
 "nbformat": 4,
 "nbformat_minor": 2
}
