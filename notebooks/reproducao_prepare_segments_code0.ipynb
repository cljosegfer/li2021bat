{
 "cells": [
  {
   "cell_type": "markdown",
   "metadata": {},
   "source": [
    "# setup"
   ]
  },
  {
   "cell_type": "code",
   "execution_count": 1,
   "metadata": {},
   "outputs": [],
   "source": [
    "import os\n",
    "\n",
    "if os.getcwd().split('/')[-1] == 'notebooks':\n",
    "    os.chdir('..')"
   ]
  },
  {
   "cell_type": "code",
   "execution_count": 98,
   "metadata": {},
   "outputs": [],
   "source": [
    "import numpy as np\n",
    "import h5py\n",
    "import pandas as pd\n",
    "\n",
    "from tqdm import tqdm"
   ]
  },
  {
   "cell_type": "code",
   "execution_count": 18,
   "metadata": {},
   "outputs": [],
   "source": [
    "from data_loader.util import load_label_files, load_challenge_data, resample, slide_and_cut_beat_aligned, load_labels, load_weights"
   ]
  },
  {
   "cell_type": "code",
   "execution_count": 84,
   "metadata": {},
   "outputs": [],
   "source": [
    "from scipy import signal\n",
    "\n",
    "def just_resample(data, sample_Fs = 400, resample_Fs = 500):\n",
    "    sample_len = data.shape[1]\n",
    "    resample_len = int(sample_len * (resample_Fs / sample_Fs))\n",
    "    resample_data = signal.resample(data, resample_len, axis=1, window=None)\n",
    "\n",
    "    return resample_data"
   ]
  },
  {
   "cell_type": "markdown",
   "metadata": {},
   "source": [
    "# draft"
   ]
  },
  {
   "cell_type": "code",
   "execution_count": 3,
   "metadata": {},
   "outputs": [],
   "source": [
    "h5f = h5py.File('data/challenge2020.h5', 'r')"
   ]
  },
  {
   "cell_type": "code",
   "execution_count": 12,
   "metadata": {},
   "outputs": [
    {
     "data": {
      "text/plain": [
       "(<HDF5 dataset \"recording\": shape (42976, 12, 10, 400), type \"<f8\">,\n",
       " <HDF5 dataset \"ratio\": shape (42976, 1, 10), type \"<f8\">,\n",
       " <HDF5 dataset \"label\": shape (42976, 108), type \"|b1\">,\n",
       " <HDF5 dataset \"weight\": shape (42976, 108), type \"<f8\">)"
      ]
     },
     "execution_count": 12,
     "metadata": {},
     "output_type": "execute_result"
    }
   ],
   "source": [
    "h5f['recording'], h5f['ratio'], h5f['label'], h5f['weight']"
   ]
  },
  {
   "cell_type": "code",
   "execution_count": 14,
   "metadata": {},
   "outputs": [
    {
     "data": {
      "text/plain": [
       "(array([[0.8825, 0.8825, 0.8825, 0.8825, 0.8825, 0.8825, 0.8825, 0.8825,\n",
       "         0.8825, 0.8825]]),\n",
       " array([False, False, False, False, False, False, False, False, False,\n",
       "        False, False, False, False, False, False, False, False, False,\n",
       "        False, False, False, False, False, False, False, False, False,\n",
       "        False, False, False, False, False, False, False, False, False,\n",
       "        False, False, False, False, False, False, False, False, False,\n",
       "        False, False, False, False, False, False, False, False, False,\n",
       "        False, False, False, False, False, False, False, False, False,\n",
       "        False, False, False, False, False, False, False, False, False,\n",
       "        False, False, False, False, False, False, False, False, False,\n",
       "        False, False, False, False, False, False, False, False, False,\n",
       "        False, False, False, False, False, False, False, False, False,\n",
       "         True, False, False, False, False, False, False, False, False]),\n",
       " array([0., 0., 0., 0., 0., 0., 0., 0., 0., 0., 1., 0., 0., 0., 1., 0., 0.,\n",
       "        0., 0., 0., 0., 0., 0., 0., 0., 0., 0., 0., 0., 0., 0., 0., 0., 0.,\n",
       "        0., 0., 0., 0., 0., 0., 0., 0., 0., 0., 0., 0., 0., 1., 0., 0., 1.,\n",
       "        0., 0., 0., 0., 0., 0., 0., 0., 0., 0., 0., 0., 0., 0., 0., 0., 0.,\n",
       "        1., 0., 0., 0., 0., 0., 0., 0., 0., 0., 0., 0., 0., 0., 0., 0., 0.,\n",
       "        0., 0., 0., 0., 0., 0., 0., 0., 0., 0., 0., 0., 0., 0., 1., 0., 0.,\n",
       "        0., 0., 0., 0., 0., 0.]))"
      ]
     },
     "execution_count": 14,
     "metadata": {},
     "output_type": "execute_result"
    }
   ],
   "source": [
    "h5f['ratio'][0], h5f['label'][0], h5f['weight'][0]"
   ]
  },
  {
   "cell_type": "code",
   "execution_count": 15,
   "metadata": {},
   "outputs": [],
   "source": [
    "h5f.close()"
   ]
  },
  {
   "cell_type": "markdown",
   "metadata": {},
   "source": [
    "# read"
   ]
  },
  {
   "cell_type": "code",
   "execution_count": 16,
   "metadata": {},
   "outputs": [],
   "source": [
    "# Define the weights, the SNOMED CT code for the normal class, and equivalent SNOMED CT codes.\n",
    "weights_file = 'weights.csv'\n",
    "normal_class = '426783006'\n",
    "equivalent_classes = [['713427006', '59118001'], ['284470004', '63593006'], ['427172004', '17338001']]"
   ]
  },
  {
   "cell_type": "code",
   "execution_count": 19,
   "metadata": {},
   "outputs": [
    {
     "name": "stdout",
     "output_type": "stream",
     "text": [
      "Finding label and output files...\n"
     ]
    }
   ],
   "source": [
    "input_directory_label = '/home/josegfer/datasets/challenge2020/data'\n",
    "label_dir = '/home/josegfer/datasets/challenge2020/data'\n",
    "# Find the label files.\n",
    "print('Finding label and output files...')\n",
    "label_files = load_label_files(input_directory_label)"
   ]
  },
  {
   "cell_type": "code",
   "execution_count": 45,
   "metadata": {},
   "outputs": [
    {
     "name": "stdout",
     "output_type": "stream",
     "text": [
      "Loading labels...\n"
     ]
    },
    {
     "data": {
      "text/plain": [
       "([list, 108], [numpy.ndarray, (42976, 108)], [list, 42976])"
      ]
     },
     "execution_count": 45,
     "metadata": {},
     "output_type": "execute_result"
    }
   ],
   "source": [
    "print('Loading labels...')\n",
    "classes, labels_onehot, labels = load_labels(label_files, normal_class,\n",
    "                                                                    equivalent_classes)\n",
    "[type(classes), len(classes)], [type(labels_onehot), labels_onehot.shape], [type(labels), len(labels)]"
   ]
  },
  {
   "cell_type": "code",
   "execution_count": 46,
   "metadata": {},
   "outputs": [
    {
     "name": "stdout",
     "output_type": "stream",
     "text": [
      "Loading weights...\n",
      "/home/josegfer/li2021bat\n"
     ]
    },
    {
     "data": {
      "text/plain": [
       "(numpy.ndarray, (108, 108))"
      ]
     },
     "execution_count": 46,
     "metadata": {},
     "output_type": "execute_result"
    }
   ],
   "source": [
    "print('Loading weights...')\n",
    "weights = load_weights(weights_file, classes)\n",
    "type(weights), weights.shape"
   ]
  },
  {
   "cell_type": "code",
   "execution_count": 47,
   "metadata": {},
   "outputs": [],
   "source": [
    "### class for dataset\n",
    "CPSC_classes = ['270492004', '164889003', '164909002', '284470004', '426783006',\n",
    "                '713427006']  # \"59118001\" = \"713427006\"\n",
    "CPSC_class_weight = np.zeros((108,))\n",
    "for cla in CPSC_classes:\n",
    "    CPSC_class_weight[classes.index(cla)] = 1\n",
    "# CPSC_extra\n",
    "CPSC_extra_excluded_classes = ['445118002', '39732003', '251146004', '698252002', '10370003', '164947007',\n",
    "                                '111975006', '164917005', '47665007', '427393009', '426783006', '59931005']\n",
    "CPSC_extra_class_weight = np.ones((108,))\n",
    "for cla in CPSC_extra_excluded_classes:\n",
    "    CPSC_extra_class_weight[classes.index(cla)] = 0\n",
    "# PTB-XL\n",
    "PTB_XL_excluded_classes = ['426627000', '427172004']  # , '17338001'\n",
    "PTB_XL_class_weight = np.ones((108,))\n",
    "for cla in PTB_XL_excluded_classes:\n",
    "    PTB_XL_class_weight[classes.index(cla)] = 0\n",
    "# G12ECG\n",
    "G12ECG_excluded_classes = ['10370003', '164947007']\n",
    "G12ECG_class_weight = np.ones((108,))\n",
    "for cla in G12ECG_excluded_classes:\n",
    "    G12ECG_class_weight[classes.index(cla)] = 0"
   ]
  },
  {
   "cell_type": "markdown",
   "metadata": {},
   "source": [
    "# draft"
   ]
  },
  {
   "cell_type": "code",
   "execution_count": 48,
   "metadata": {},
   "outputs": [
    {
     "data": {
      "text/plain": [
       "(42976, 108)"
      ]
     },
     "execution_count": 48,
     "metadata": {},
     "output_type": "execute_result"
    }
   ],
   "source": [
    "num_files = len(label_files)\n",
    "# num_files = 5\n",
    "n_lead = 12\n",
    "n_segment = 10\n",
    "beat_length = 400\n",
    "n_classes = len(classes)\n",
    "num_files, n_classes"
   ]
  },
  {
   "cell_type": "code",
   "execution_count": 49,
   "metadata": {},
   "outputs": [
    {
     "name": "stderr",
     "output_type": "stream",
     "text": [
      "  0%|          | 0/42976 [00:00<?, ?it/s]\n"
     ]
    }
   ],
   "source": [
    "for i in tqdm(range(num_files)):\n",
    "    break\n",
    "    recording, header, name = load_challenge_data(label_files[i], label_dir)\n",
    "    recording[np.isnan(recording)] = 0\n",
    "\n",
    "    # divide ADC_gain and resample\n",
    "    recording = resample(recording, header, 500)\n",
    "\n",
    "    if name[0] == 'S' or name[0] == 'I': # PTB or St.P dataset\n",
    "        pass\n",
    "    elif name[0] == 'A': # CPSC\n",
    "        class_weight = CPSC_class_weight\n",
    "    elif name[0] == 'Q': # CPSC-extra\n",
    "        class_weight = CPSC_extra_class_weight\n",
    "    elif name[0] == 'H': # PTB-XL\n",
    "        class_weight = PTB_XL_class_weight\n",
    "    elif name[0] == 'E': # G12ECG\n",
    "        class_weight = G12ECG_class_weight\n",
    "    else:\n",
    "        print('warning! not from one of the datasets')\n",
    "        print(name)\n",
    "\n",
    "    # slide and cut\n",
    "    recording, info2save = slide_and_cut_beat_aligned(recording, 1, 5000, 500,\n",
    "                                                    seg_with_r=False, beat_length=400)\n",
    "    x[i, :, :, :] = np.transpose(recording, (0, 2, 1, 3))\n",
    "    r[i, :, :] = info2save\n",
    "    y[i, :] = labels_onehot[i]\n",
    "    w[i, :] = class_weight"
   ]
  },
  {
   "cell_type": "code",
   "execution_count": 68,
   "metadata": {},
   "outputs": [
    {
     "data": {
      "text/plain": [
       "('A0001',\n",
       " ['A0001 12 500 7500\\n',\n",
       "  'A0001.mat 16x1+24 1000.0(0)/mV 16 0 28 -1716 0 I\\n',\n",
       "  'A0001.mat 16x1+24 1000.0(0)/mV 16 0 7 2029 0 II\\n',\n",
       "  'A0001.mat 16x1+24 1000.0(0)/mV 16 0 -21 3745 0 III\\n',\n",
       "  'A0001.mat 16x1+24 1000.0(0)/mV 16 0 -17 3680 0 aVR\\n',\n",
       "  'A0001.mat 16x1+24 1000.0(0)/mV 16 0 24 -2664 0 aVL\\n',\n",
       "  'A0001.mat 16x1+24 1000.0(0)/mV 16 0 -7 -1499 0 aVF\\n',\n",
       "  'A0001.mat 16x1+24 1000.0(0)/mV 16 0 -290 390 0 V1\\n',\n",
       "  'A0001.mat 16x1+24 1000.0(0)/mV 16 0 -204 157 0 V2\\n',\n",
       "  'A0001.mat 16x1+24 1000.0(0)/mV 16 0 -96 -2555 0 V3\\n',\n",
       "  'A0001.mat 16x1+24 1000.0(0)/mV 16 0 -112 49 0 V4\\n',\n",
       "  'A0001.mat 16x1+24 1000.0(0)/mV 16 0 -596 -321 0 V5\\n',\n",
       "  'A0001.mat 16x1+24 1000.0(0)/mV 16 0 -16 -3112 0 V6\\n',\n",
       "  '# Age: 74\\n',\n",
       "  '# Sex: Male\\n',\n",
       "  '# Dx: 59118001\\n',\n",
       "  '# Rx: Unknown\\n',\n",
       "  '# Hx: Unknown\\n',\n",
       "  '# Sx: Unknown\\n'],\n",
       " numpy.ndarray,\n",
       " (12, 7500))"
      ]
     },
     "execution_count": 68,
     "metadata": {},
     "output_type": "execute_result"
    }
   ],
   "source": [
    "recording, header, name = load_challenge_data(label_files[i], label_dir)\n",
    "name, header, type(recording), recording.shape"
   ]
  },
  {
   "cell_type": "code",
   "execution_count": 59,
   "metadata": {},
   "outputs": [
    {
     "data": {
      "text/plain": [
       "(12, 7500)"
      ]
     },
     "execution_count": 59,
     "metadata": {},
     "output_type": "execute_result"
    }
   ],
   "source": [
    "recording[np.isnan(recording)] = 0\n",
    "recording = resample(recording, header, 500)\n",
    "recording.shape"
   ]
  },
  {
   "cell_type": "code",
   "execution_count": 61,
   "metadata": {},
   "outputs": [
    {
     "data": {
      "text/plain": [
       "array([0., 0., 0., 0., 0., 0., 0., 0., 0., 0., 1., 0., 0., 0., 1., 0., 0.,\n",
       "       0., 0., 0., 0., 0., 0., 0., 0., 0., 0., 0., 0., 0., 0., 0., 0., 0.,\n",
       "       0., 0., 0., 0., 0., 0., 0., 0., 0., 0., 0., 0., 0., 1., 0., 0., 1.,\n",
       "       0., 0., 0., 0., 0., 0., 0., 0., 0., 0., 0., 0., 0., 0., 0., 0., 0.,\n",
       "       1., 0., 0., 0., 0., 0., 0., 0., 0., 0., 0., 0., 0., 0., 0., 0., 0.,\n",
       "       0., 0., 0., 0., 0., 0., 0., 0., 0., 0., 0., 0., 0., 0., 1., 0., 0.,\n",
       "       0., 0., 0., 0., 0., 0.])"
      ]
     },
     "execution_count": 61,
     "metadata": {},
     "output_type": "execute_result"
    }
   ],
   "source": [
    "if name[0] == 'S' or name[0] == 'I': # PTB or St.P dataset\n",
    "    pass\n",
    "elif name[0] == 'A': # CPSC\n",
    "    class_weight = CPSC_class_weight\n",
    "elif name[0] == 'Q': # CPSC-extra\n",
    "    class_weight = CPSC_extra_class_weight\n",
    "elif name[0] == 'H': # PTB-XL\n",
    "    class_weight = PTB_XL_class_weight\n",
    "elif name[0] == 'E': # G12ECG\n",
    "    class_weight = G12ECG_class_weight\n",
    "else:\n",
    "    print('warning! not from one of the datasets')\n",
    "    print(name)\n",
    "class_weight"
   ]
  },
  {
   "cell_type": "code",
   "execution_count": 69,
   "metadata": {},
   "outputs": [
    {
     "data": {
      "text/plain": [
       "((1, 10, 12, 400),\n",
       " array([[0.8825, 0.8825, 0.8825, 0.8825, 0.8825, 0.8825, 0.8825, 0.8825,\n",
       "         0.8825, 0.8825]]))"
      ]
     },
     "execution_count": 69,
     "metadata": {},
     "output_type": "execute_result"
    }
   ],
   "source": [
    "recording, info2save = slide_and_cut_beat_aligned(recording, n_segment = 1, window_size = 5000, sampling_rate = 500,\n",
    "                                                seg_with_r=False, beat_length=400)\n",
    "recording.shape, info2save"
   ]
  },
  {
   "cell_type": "markdown",
   "metadata": {},
   "source": [
    "# code15"
   ]
  },
  {
   "cell_type": "code",
   "execution_count": 101,
   "metadata": {},
   "outputs": [
    {
     "data": {
      "text/plain": [
       "(<HDF5 dataset \"tracings\": shape (345797, 4096, 12), type \"<f4\">,\n",
       " <HDF5 dataset \"exam_id\": shape (345797,), type \"<i8\">)"
      ]
     },
     "execution_count": 101,
     "metadata": {},
     "output_type": "execute_result"
    }
   ],
   "source": [
    "code15 = h5py.File('/home/josegfer/datasets/code/output/code15.h5', 'r')\n",
    "code15['tracings'], code15['exam_id']"
   ]
  },
  {
   "cell_type": "code",
   "execution_count": 116,
   "metadata": {},
   "outputs": [
    {
     "data": {
      "text/html": [
       "<div>\n",
       "<style scoped>\n",
       "    .dataframe tbody tr th:only-of-type {\n",
       "        vertical-align: middle;\n",
       "    }\n",
       "\n",
       "    .dataframe tbody tr th {\n",
       "        vertical-align: top;\n",
       "    }\n",
       "\n",
       "    .dataframe thead th {\n",
       "        text-align: right;\n",
       "    }\n",
       "</style>\n",
       "<table border=\"1\" class=\"dataframe\">\n",
       "  <thead>\n",
       "    <tr style=\"text-align: right;\">\n",
       "      <th></th>\n",
       "      <th>exam_id</th>\n",
       "      <th>age</th>\n",
       "      <th>is_male</th>\n",
       "      <th>nn_predicted_age</th>\n",
       "      <th>1dAVb</th>\n",
       "      <th>RBBB</th>\n",
       "      <th>LBBB</th>\n",
       "      <th>SB</th>\n",
       "      <th>ST</th>\n",
       "      <th>AF</th>\n",
       "      <th>patient_id</th>\n",
       "      <th>death</th>\n",
       "      <th>timey</th>\n",
       "      <th>normal_ecg</th>\n",
       "      <th>trace_file</th>\n",
       "    </tr>\n",
       "  </thead>\n",
       "  <tbody>\n",
       "    <tr>\n",
       "      <th>0</th>\n",
       "      <td>1169160</td>\n",
       "      <td>38</td>\n",
       "      <td>True</td>\n",
       "      <td>40.160484</td>\n",
       "      <td>False</td>\n",
       "      <td>False</td>\n",
       "      <td>False</td>\n",
       "      <td>False</td>\n",
       "      <td>False</td>\n",
       "      <td>False</td>\n",
       "      <td>523632</td>\n",
       "      <td>False</td>\n",
       "      <td>2.098628</td>\n",
       "      <td>True</td>\n",
       "      <td>exams_part13.hdf5</td>\n",
       "    </tr>\n",
       "    <tr>\n",
       "      <th>1</th>\n",
       "      <td>2873686</td>\n",
       "      <td>73</td>\n",
       "      <td>True</td>\n",
       "      <td>67.059440</td>\n",
       "      <td>False</td>\n",
       "      <td>False</td>\n",
       "      <td>False</td>\n",
       "      <td>False</td>\n",
       "      <td>False</td>\n",
       "      <td>False</td>\n",
       "      <td>1724173</td>\n",
       "      <td>False</td>\n",
       "      <td>6.657529</td>\n",
       "      <td>False</td>\n",
       "      <td>exams_part13.hdf5</td>\n",
       "    </tr>\n",
       "    <tr>\n",
       "      <th>2</th>\n",
       "      <td>168405</td>\n",
       "      <td>67</td>\n",
       "      <td>True</td>\n",
       "      <td>79.621740</td>\n",
       "      <td>False</td>\n",
       "      <td>False</td>\n",
       "      <td>False</td>\n",
       "      <td>False</td>\n",
       "      <td>False</td>\n",
       "      <td>True</td>\n",
       "      <td>51421</td>\n",
       "      <td>False</td>\n",
       "      <td>4.282188</td>\n",
       "      <td>False</td>\n",
       "      <td>exams_part13.hdf5</td>\n",
       "    </tr>\n",
       "    <tr>\n",
       "      <th>3</th>\n",
       "      <td>271011</td>\n",
       "      <td>41</td>\n",
       "      <td>True</td>\n",
       "      <td>69.750260</td>\n",
       "      <td>False</td>\n",
       "      <td>False</td>\n",
       "      <td>False</td>\n",
       "      <td>False</td>\n",
       "      <td>False</td>\n",
       "      <td>False</td>\n",
       "      <td>1737282</td>\n",
       "      <td>False</td>\n",
       "      <td>4.038353</td>\n",
       "      <td>True</td>\n",
       "      <td>exams_part13.hdf5</td>\n",
       "    </tr>\n",
       "    <tr>\n",
       "      <th>4</th>\n",
       "      <td>384368</td>\n",
       "      <td>73</td>\n",
       "      <td>True</td>\n",
       "      <td>78.873460</td>\n",
       "      <td>False</td>\n",
       "      <td>False</td>\n",
       "      <td>False</td>\n",
       "      <td>False</td>\n",
       "      <td>False</td>\n",
       "      <td>False</td>\n",
       "      <td>331652</td>\n",
       "      <td>False</td>\n",
       "      <td>3.786298</td>\n",
       "      <td>False</td>\n",
       "      <td>exams_part13.hdf5</td>\n",
       "    </tr>\n",
       "    <tr>\n",
       "      <th>...</th>\n",
       "      <td>...</td>\n",
       "      <td>...</td>\n",
       "      <td>...</td>\n",
       "      <td>...</td>\n",
       "      <td>...</td>\n",
       "      <td>...</td>\n",
       "      <td>...</td>\n",
       "      <td>...</td>\n",
       "      <td>...</td>\n",
       "      <td>...</td>\n",
       "      <td>...</td>\n",
       "      <td>...</td>\n",
       "      <td>...</td>\n",
       "      <td>...</td>\n",
       "      <td>...</td>\n",
       "    </tr>\n",
       "    <tr>\n",
       "      <th>345774</th>\n",
       "      <td>1123951</td>\n",
       "      <td>33</td>\n",
       "      <td>True</td>\n",
       "      <td>35.893005</td>\n",
       "      <td>False</td>\n",
       "      <td>False</td>\n",
       "      <td>False</td>\n",
       "      <td>False</td>\n",
       "      <td>False</td>\n",
       "      <td>False</td>\n",
       "      <td>770553</td>\n",
       "      <td>False</td>\n",
       "      <td>2.189039</td>\n",
       "      <td>True</td>\n",
       "      <td>exams_part2.hdf5</td>\n",
       "    </tr>\n",
       "    <tr>\n",
       "      <th>345775</th>\n",
       "      <td>954704</td>\n",
       "      <td>73</td>\n",
       "      <td>False</td>\n",
       "      <td>68.169136</td>\n",
       "      <td>False</td>\n",
       "      <td>False</td>\n",
       "      <td>False</td>\n",
       "      <td>False</td>\n",
       "      <td>False</td>\n",
       "      <td>False</td>\n",
       "      <td>1044781</td>\n",
       "      <td>False</td>\n",
       "      <td>2.520546</td>\n",
       "      <td>False</td>\n",
       "      <td>exams_part2.hdf5</td>\n",
       "    </tr>\n",
       "    <tr>\n",
       "      <th>345776</th>\n",
       "      <td>589697</td>\n",
       "      <td>75</td>\n",
       "      <td>False</td>\n",
       "      <td>78.080810</td>\n",
       "      <td>False</td>\n",
       "      <td>False</td>\n",
       "      <td>False</td>\n",
       "      <td>False</td>\n",
       "      <td>False</td>\n",
       "      <td>False</td>\n",
       "      <td>1020589</td>\n",
       "      <td>False</td>\n",
       "      <td>3.304107</td>\n",
       "      <td>False</td>\n",
       "      <td>exams_part2.hdf5</td>\n",
       "    </tr>\n",
       "    <tr>\n",
       "      <th>345777</th>\n",
       "      <td>2780563</td>\n",
       "      <td>44</td>\n",
       "      <td>False</td>\n",
       "      <td>73.120636</td>\n",
       "      <td>False</td>\n",
       "      <td>False</td>\n",
       "      <td>False</td>\n",
       "      <td>False</td>\n",
       "      <td>False</td>\n",
       "      <td>False</td>\n",
       "      <td>178</td>\n",
       "      <td>False</td>\n",
       "      <td>7.339720</td>\n",
       "      <td>False</td>\n",
       "      <td>exams_part2.hdf5</td>\n",
       "    </tr>\n",
       "    <tr>\n",
       "      <th>345778</th>\n",
       "      <td>1576698</td>\n",
       "      <td>27</td>\n",
       "      <td>False</td>\n",
       "      <td>31.939650</td>\n",
       "      <td>False</td>\n",
       "      <td>False</td>\n",
       "      <td>False</td>\n",
       "      <td>False</td>\n",
       "      <td>False</td>\n",
       "      <td>False</td>\n",
       "      <td>1597868</td>\n",
       "      <td>False</td>\n",
       "      <td>1.298629</td>\n",
       "      <td>False</td>\n",
       "      <td>exams_part2.hdf5</td>\n",
       "    </tr>\n",
       "  </tbody>\n",
       "</table>\n",
       "<p>345779 rows × 15 columns</p>\n",
       "</div>"
      ],
      "text/plain": [
       "        exam_id  age  is_male  nn_predicted_age  1dAVb   RBBB   LBBB     SB  \\\n",
       "0       1169160   38     True         40.160484  False  False  False  False   \n",
       "1       2873686   73     True         67.059440  False  False  False  False   \n",
       "2        168405   67     True         79.621740  False  False  False  False   \n",
       "3        271011   41     True         69.750260  False  False  False  False   \n",
       "4        384368   73     True         78.873460  False  False  False  False   \n",
       "...         ...  ...      ...               ...    ...    ...    ...    ...   \n",
       "345774  1123951   33     True         35.893005  False  False  False  False   \n",
       "345775   954704   73    False         68.169136  False  False  False  False   \n",
       "345776   589697   75    False         78.080810  False  False  False  False   \n",
       "345777  2780563   44    False         73.120636  False  False  False  False   \n",
       "345778  1576698   27    False         31.939650  False  False  False  False   \n",
       "\n",
       "           ST     AF  patient_id  death     timey  normal_ecg  \\\n",
       "0       False  False      523632  False  2.098628        True   \n",
       "1       False  False     1724173  False  6.657529       False   \n",
       "2       False   True       51421  False  4.282188       False   \n",
       "3       False  False     1737282  False  4.038353        True   \n",
       "4       False  False      331652  False  3.786298       False   \n",
       "...       ...    ...         ...    ...       ...         ...   \n",
       "345774  False  False      770553  False  2.189039        True   \n",
       "345775  False  False     1044781  False  2.520546       False   \n",
       "345776  False  False     1020589  False  3.304107       False   \n",
       "345777  False  False         178  False  7.339720       False   \n",
       "345778  False  False     1597868  False  1.298629       False   \n",
       "\n",
       "               trace_file  \n",
       "0       exams_part13.hdf5  \n",
       "1       exams_part13.hdf5  \n",
       "2       exams_part13.hdf5  \n",
       "3       exams_part13.hdf5  \n",
       "4       exams_part13.hdf5  \n",
       "...                   ...  \n",
       "345774   exams_part2.hdf5  \n",
       "345775   exams_part2.hdf5  \n",
       "345776   exams_part2.hdf5  \n",
       "345777   exams_part2.hdf5  \n",
       "345778   exams_part2.hdf5  \n",
       "\n",
       "[345779 rows x 15 columns]"
      ]
     },
     "execution_count": 116,
     "metadata": {},
     "output_type": "execute_result"
    }
   ],
   "source": [
    "metadata = pd.read_csv('/home/josegfer/datasets/code/data/exams.csv')\n",
    "label_columns = ['1dAVb', 'RBBB', 'LBBB', 'SB', 'ST', 'AF']\n",
    "metadata"
   ]
  },
  {
   "cell_type": "code",
   "execution_count": 103,
   "metadata": {},
   "outputs": [
    {
     "data": {
      "text/plain": [
       "(array([      0,       0,       0, ..., 4416606, 4416611, 4416614]),\n",
       " array([ 20000,  40001,  60002, ..., 296146,  64497,  97636]),\n",
       " array([-305796, -285795, -265794, ...,  162700,  341804,   95898]))"
      ]
     },
     "execution_count": 103,
     "metadata": {},
     "output_type": "execute_result"
    }
   ],
   "source": [
    "indices, h5_indices, csv_indices = np.intersect1d(code15['exam_id'], metadata['exam_id'], assume_unique = True, return_indices = True)\n",
    "indices, h5_indices, csv_indices"
   ]
  },
  {
   "cell_type": "code",
   "execution_count": 104,
   "metadata": {},
   "outputs": [],
   "source": [
    "num_files = code15['tracings'].shape[0]\n",
    "n_lead = 12\n",
    "n_segment = 10\n",
    "beat_length = 400\n",
    "n_classes = 6"
   ]
  },
  {
   "cell_type": "code",
   "execution_count": 105,
   "metadata": {},
   "outputs": [
    {
     "name": "stderr",
     "output_type": "stream",
     "text": [
      "  0%|          | 0/345797 [00:00<?, ?it/s]\n"
     ]
    }
   ],
   "source": [
    "for i in tqdm(range(num_files)):\n",
    "    break\n",
    "    recording = code15['tracings'][i].T\n",
    "    exam_id = code15['exam_id'][i]\n",
    "\n",
    "    # resample\n",
    "    recording = just_resample(recording, sample_Fs = 400, resample_Fs = 500)\n",
    "\n",
    "    csv_idx = csv_indices[indices == exam_id]\n",
    "    assert exam_id == metadata['exam_id'].loc[csv_idx].values[0]\n",
    "    onehot = metadata[label_columns].loc[csv_idx].values\n",
    "\n",
    "    # slide and cut\n",
    "    scbeat, info2save = slide_and_cut_beat_aligned(recording, n_segment = 1, window_size = 5000, sampling_rate = 500, \n",
    "                                                   seg_with_r = False, beat_length = 400)\n",
    "    x[i, :, :, :] = np.transpose(recording, (0, 2, 1, 3))\n",
    "    r[i, :, :] = info2save\n",
    "    y[i, :] = onehot\n",
    "    id[i] = exam_id"
   ]
  },
  {
   "cell_type": "code",
   "execution_count": 106,
   "metadata": {},
   "outputs": [
    {
     "data": {
      "text/plain": [
       "(numpy.ndarray, (12, 4096), 590673)"
      ]
     },
     "execution_count": 106,
     "metadata": {},
     "output_type": "execute_result"
    }
   ],
   "source": [
    "# recording, header, name = load_challenge_data(label_files[i], label_dir)\n",
    "recording = code15['tracings'][i].T\n",
    "exam_id = code15['exam_id'][i]\n",
    "type(recording), recording.shape, exam_id"
   ]
  },
  {
   "cell_type": "code",
   "execution_count": 107,
   "metadata": {},
   "outputs": [
    {
     "data": {
      "text/plain": [
       "(12, 5120)"
      ]
     },
     "execution_count": 107,
     "metadata": {},
     "output_type": "execute_result"
    }
   ],
   "source": [
    "recording = just_resample(recording, sample_Fs = 400, resample_Fs = 500)\n",
    "recording.shape"
   ]
  },
  {
   "cell_type": "code",
   "execution_count": 124,
   "metadata": {},
   "outputs": [
    {
     "data": {
      "text/plain": [
       "array([False, False, False, False, False, False])"
      ]
     },
     "execution_count": 124,
     "metadata": {},
     "output_type": "execute_result"
    }
   ],
   "source": [
    "csv_idx = csv_indices[indices == exam_id]\n",
    "assert exam_id == metadata['exam_id'].loc[csv_idx].values[0]\n",
    "onehot = metadata[label_columns].loc[csv_idx].values[0]\n",
    "onehot"
   ]
  },
  {
   "cell_type": "code",
   "execution_count": 90,
   "metadata": {},
   "outputs": [
    {
     "data": {
      "text/plain": [
       "((1, 10, 12, 400),\n",
       " array([[0.8275, 0.8275, 0.8275, 0.8275, 0.8275, 0.8275, 0.8275, 0.8275,\n",
       "         0.8275, 0.8275]]))"
      ]
     },
     "execution_count": 90,
     "metadata": {},
     "output_type": "execute_result"
    }
   ],
   "source": [
    "scbeat, info2save = slide_and_cut_beat_aligned(recording, n_segment = 1, window_size = 5000, sampling_rate = 500, \n",
    "                                               seg_with_r = False, beat_length = 400)\n",
    "scbeat.shape, info2save"
   ]
  },
  {
   "cell_type": "code",
   "execution_count": 125,
   "metadata": {},
   "outputs": [],
   "source": [
    "code15.close()"
   ]
  },
  {
   "cell_type": "markdown",
   "metadata": {},
   "source": [
    "# loop"
   ]
  },
  {
   "cell_type": "code",
   "execution_count": 184,
   "metadata": {},
   "outputs": [],
   "source": [
    "code15 = h5py.File('/home/josegfer/datasets/code/output/code15.h5', 'r')"
   ]
  },
  {
   "cell_type": "code",
   "execution_count": 185,
   "metadata": {},
   "outputs": [
    {
     "name": "stderr",
     "output_type": "stream",
     "text": [
      "  0%|          | 1567/345797 [00:27<1:39:07, 57.88it/s]/home/josegfer/miniconda3/envs/li2021bat/lib/python3.8/site-packages/neurokit2/signal/signal_period.py:60: NeuroKitWarning: Too few peaks detected to compute the rate. Returning empty vector.\n",
      "  warn(\n",
      "/home/josegfer/miniconda3/envs/li2021bat/lib/python3.8/site-packages/neurokit2/signal/signal_period.py:60: NeuroKitWarning: Too few peaks detected to compute the rate. Returning empty vector.\n",
      "  warn(\n",
      "/home/josegfer/miniconda3/envs/li2021bat/lib/python3.8/site-packages/neurokit2/signal/signal_period.py:60: NeuroKitWarning: Too few peaks detected to compute the rate. Returning empty vector.\n",
      "  warn(\n",
      "  1%|          | 2047/345797 [00:36<1:41:34, 56.41it/s]/home/josegfer/miniconda3/envs/li2021bat/lib/python3.8/site-packages/neurokit2/signal/signal_period.py:60: NeuroKitWarning: Too few peaks detected to compute the rate. Returning empty vector.\n",
      "  warn(\n",
      "  1%|          | 2169/345797 [00:38<1:36:53, 59.11it/s]/home/josegfer/miniconda3/envs/li2021bat/lib/python3.8/site-packages/neurokit2/signal/signal_period.py:60: NeuroKitWarning: Too few peaks detected to compute the rate. Returning empty vector.\n",
      "  warn(\n",
      "  1%|          | 2920/345797 [00:53<2:19:04, 41.09it/s]/home/josegfer/miniconda3/envs/li2021bat/lib/python3.8/site-packages/neurokit2/signal/signal_period.py:60: NeuroKitWarning: Too few peaks detected to compute the rate. Returning empty vector.\n",
      "  warn(\n",
      "/home/josegfer/miniconda3/envs/li2021bat/lib/python3.8/site-packages/neurokit2/signal/signal_period.py:60: NeuroKitWarning: Too few peaks detected to compute the rate. Returning empty vector.\n",
      "  warn(\n",
      "/home/josegfer/miniconda3/envs/li2021bat/lib/python3.8/site-packages/numpy/core/fromnumeric.py:3372: RuntimeWarning: Mean of empty slice.\n",
      "  return _methods._mean(a, axis=axis, dtype=dtype,\n",
      "/home/josegfer/miniconda3/envs/li2021bat/lib/python3.8/site-packages/numpy/core/fromnumeric.py:3372: RuntimeWarning: Mean of empty slice.\n",
      "  return _methods._mean(a, axis=axis, dtype=dtype,\n",
      "/home/josegfer/miniconda3/envs/li2021bat/lib/python3.8/site-packages/neurokit2/signal/signal_period.py:60: NeuroKitWarning: Too few peaks detected to compute the rate. Returning empty vector.\n",
      "  warn(\n",
      "/home/josegfer/miniconda3/envs/li2021bat/lib/python3.8/site-packages/neurokit2/signal/signal_period.py:60: NeuroKitWarning: Too few peaks detected to compute the rate. Returning empty vector.\n",
      "  warn(\n",
      "  1%|          | 3019/345797 [00:56<3:20:57, 28.43it/s]/home/josegfer/miniconda3/envs/li2021bat/lib/python3.8/site-packages/numpy/core/fromnumeric.py:3372: RuntimeWarning: Mean of empty slice.\n",
      "  return _methods._mean(a, axis=axis, dtype=dtype,\n",
      "/home/josegfer/miniconda3/envs/li2021bat/lib/python3.8/site-packages/neurokit2/signal/signal_period.py:60: NeuroKitWarning: Too few peaks detected to compute the rate. Returning empty vector.\n",
      "  warn(\n",
      "  1%|          | 3553/345797 [01:07<1:40:54, 56.52it/s]/home/josegfer/miniconda3/envs/li2021bat/lib/python3.8/site-packages/neurokit2/signal/signal_period.py:60: NeuroKitWarning: Too few peaks detected to compute the rate. Returning empty vector.\n",
      "  warn(\n",
      "/home/josegfer/miniconda3/envs/li2021bat/lib/python3.8/site-packages/neurokit2/signal/signal_period.py:60: NeuroKitWarning: Too few peaks detected to compute the rate. Returning empty vector.\n",
      "  warn(\n",
      "/home/josegfer/miniconda3/envs/li2021bat/lib/python3.8/site-packages/neurokit2/signal/signal_period.py:60: NeuroKitWarning: Too few peaks detected to compute the rate. Returning empty vector.\n",
      "  warn(\n",
      "  1%|▏         | 4752/345797 [01:29<1:40:35, 56.50it/s]/home/josegfer/miniconda3/envs/li2021bat/lib/python3.8/site-packages/neurokit2/signal/signal_period.py:60: NeuroKitWarning: Too few peaks detected to compute the rate. Returning empty vector.\n",
      "  warn(\n",
      "/home/josegfer/miniconda3/envs/li2021bat/lib/python3.8/site-packages/neurokit2/signal/signal_period.py:60: NeuroKitWarning: Too few peaks detected to compute the rate. Returning empty vector.\n",
      "  warn(\n",
      "/home/josegfer/miniconda3/envs/li2021bat/lib/python3.8/site-packages/numpy/core/fromnumeric.py:3372: RuntimeWarning: Mean of empty slice.\n",
      "  return _methods._mean(a, axis=axis, dtype=dtype,\n",
      "/home/josegfer/miniconda3/envs/li2021bat/lib/python3.8/site-packages/neurokit2/signal/signal_period.py:60: NeuroKitWarning: Too few peaks detected to compute the rate. Returning empty vector.\n",
      "  warn(\n",
      "  1%|▏         | 4953/345797 [01:32<1:41:09, 56.16it/s]/home/josegfer/miniconda3/envs/li2021bat/lib/python3.8/site-packages/neurokit2/signal/signal_period.py:60: NeuroKitWarning: Too few peaks detected to compute the rate. Returning empty vector.\n",
      "  warn(\n",
      "/home/josegfer/miniconda3/envs/li2021bat/lib/python3.8/site-packages/neurokit2/signal/signal_period.py:60: NeuroKitWarning: Too few peaks detected to compute the rate. Returning empty vector.\n",
      "  warn(\n",
      "/home/josegfer/miniconda3/envs/li2021bat/lib/python3.8/site-packages/numpy/core/fromnumeric.py:3372: RuntimeWarning: Mean of empty slice.\n",
      "  return _methods._mean(a, axis=axis, dtype=dtype,\n",
      "/home/josegfer/miniconda3/envs/li2021bat/lib/python3.8/site-packages/neurokit2/signal/signal_period.py:60: NeuroKitWarning: Too few peaks detected to compute the rate. Returning empty vector.\n",
      "  warn(\n",
      "/home/josegfer/miniconda3/envs/li2021bat/lib/python3.8/site-packages/numpy/core/fromnumeric.py:3372: RuntimeWarning: Mean of empty slice.\n",
      "  return _methods._mean(a, axis=axis, dtype=dtype,\n",
      "  2%|▏         | 6181/345797 [01:54<1:39:09, 57.08it/s]/home/josegfer/miniconda3/envs/li2021bat/lib/python3.8/site-packages/numpy/core/fromnumeric.py:3372: RuntimeWarning: Mean of empty slice.\n",
      "  return _methods._mean(a, axis=axis, dtype=dtype,\n",
      "/home/josegfer/miniconda3/envs/li2021bat/lib/python3.8/site-packages/neurokit2/signal/signal_period.py:60: NeuroKitWarning: Too few peaks detected to compute the rate. Returning empty vector.\n",
      "  warn(\n",
      "  2%|▏         | 6212/345797 [01:54<1:40:27, 56.34it/s]/home/josegfer/miniconda3/envs/li2021bat/lib/python3.8/site-packages/neurokit2/signal/signal_period.py:60: NeuroKitWarning: Too few peaks detected to compute the rate. Returning empty vector.\n",
      "  warn(\n",
      "/home/josegfer/miniconda3/envs/li2021bat/lib/python3.8/site-packages/neurokit2/signal/signal_period.py:60: NeuroKitWarning: Too few peaks detected to compute the rate. Returning empty vector.\n",
      "  warn(\n",
      "/home/josegfer/miniconda3/envs/li2021bat/lib/python3.8/site-packages/neurokit2/signal/signal_period.py:60: NeuroKitWarning: Too few peaks detected to compute the rate. Returning empty vector.\n",
      "  warn(\n",
      "  2%|▏         | 6299/345797 [01:56<1:39:20, 56.96it/s]/home/josegfer/miniconda3/envs/li2021bat/lib/python3.8/site-packages/neurokit2/signal/signal_period.py:60: NeuroKitWarning: Too few peaks detected to compute the rate. Returning empty vector.\n",
      "  warn(\n",
      "  2%|▏         | 6744/345797 [02:04<1:38:32, 57.34it/s]/home/josegfer/miniconda3/envs/li2021bat/lib/python3.8/site-packages/neurokit2/signal/signal_period.py:60: NeuroKitWarning: Too few peaks detected to compute the rate. Returning empty vector.\n",
      "  warn(\n",
      "  2%|▏         | 6883/345797 [02:07<1:40:24, 56.26it/s]/home/josegfer/miniconda3/envs/li2021bat/lib/python3.8/site-packages/numpy/core/fromnumeric.py:3372: RuntimeWarning: Mean of empty slice.\n",
      "  return _methods._mean(a, axis=axis, dtype=dtype,\n",
      "/home/josegfer/miniconda3/envs/li2021bat/lib/python3.8/site-packages/neurokit2/signal/signal_period.py:60: NeuroKitWarning: Too few peaks detected to compute the rate. Returning empty vector.\n",
      "  warn(\n",
      "/home/josegfer/miniconda3/envs/li2021bat/lib/python3.8/site-packages/numpy/core/fromnumeric.py:3372: RuntimeWarning: Mean of empty slice.\n",
      "  return _methods._mean(a, axis=axis, dtype=dtype,\n",
      "/home/josegfer/miniconda3/envs/li2021bat/lib/python3.8/site-packages/neurokit2/signal/signal_period.py:60: NeuroKitWarning: Too few peaks detected to compute the rate. Returning empty vector.\n",
      "  warn(\n",
      "  2%|▏         | 6889/345797 [02:07<2:25:54, 38.71it/s]/home/josegfer/miniconda3/envs/li2021bat/lib/python3.8/site-packages/neurokit2/signal/signal_period.py:60: NeuroKitWarning: Too few peaks detected to compute the rate. Returning empty vector.\n",
      "  warn(\n",
      "/home/josegfer/miniconda3/envs/li2021bat/lib/python3.8/site-packages/neurokit2/signal/signal_period.py:60: NeuroKitWarning: Too few peaks detected to compute the rate. Returning empty vector.\n",
      "  warn(\n",
      "/home/josegfer/miniconda3/envs/li2021bat/lib/python3.8/site-packages/neurokit2/signal/signal_period.py:60: NeuroKitWarning: Too few peaks detected to compute the rate. Returning empty vector.\n",
      "  warn(\n",
      "/home/josegfer/miniconda3/envs/li2021bat/lib/python3.8/site-packages/neurokit2/signal/signal_period.py:60: NeuroKitWarning: Too few peaks detected to compute the rate. Returning empty vector.\n",
      "  warn(\n",
      "/home/josegfer/miniconda3/envs/li2021bat/lib/python3.8/site-packages/neurokit2/signal/signal_period.py:60: NeuroKitWarning: Too few peaks detected to compute the rate. Returning empty vector.\n",
      "  warn(\n",
      "  2%|▏         | 6901/345797 [02:07<2:33:42, 36.75it/s]/home/josegfer/miniconda3/envs/li2021bat/lib/python3.8/site-packages/numpy/core/fromnumeric.py:3372: RuntimeWarning: Mean of empty slice.\n",
      "  return _methods._mean(a, axis=axis, dtype=dtype,\n",
      "/home/josegfer/miniconda3/envs/li2021bat/lib/python3.8/site-packages/neurokit2/signal/signal_period.py:60: NeuroKitWarning: Too few peaks detected to compute the rate. Returning empty vector.\n",
      "  warn(\n",
      "/home/josegfer/miniconda3/envs/li2021bat/lib/python3.8/site-packages/numpy/core/fromnumeric.py:3372: RuntimeWarning: Mean of empty slice.\n",
      "  return _methods._mean(a, axis=axis, dtype=dtype,\n",
      "/home/josegfer/miniconda3/envs/li2021bat/lib/python3.8/site-packages/neurokit2/signal/signal_period.py:60: NeuroKitWarning: Too few peaks detected to compute the rate. Returning empty vector.\n",
      "  warn(\n",
      "/home/josegfer/miniconda3/envs/li2021bat/lib/python3.8/site-packages/numpy/core/fromnumeric.py:3372: RuntimeWarning: Mean of empty slice.\n",
      "  return _methods._mean(a, axis=axis, dtype=dtype,\n",
      "/home/josegfer/miniconda3/envs/li2021bat/lib/python3.8/site-packages/neurokit2/signal/signal_period.py:60: NeuroKitWarning: Too few peaks detected to compute the rate. Returning empty vector.\n",
      "  warn(\n",
      "  2%|▏         | 7054/345797 [02:10<1:39:59, 56.46it/s]/home/josegfer/miniconda3/envs/li2021bat/lib/python3.8/site-packages/neurokit2/signal/signal_period.py:60: NeuroKitWarning: Too few peaks detected to compute the rate. Returning empty vector.\n",
      "  warn(\n",
      "/home/josegfer/miniconda3/envs/li2021bat/lib/python3.8/site-packages/neurokit2/signal/signal_period.py:60: NeuroKitWarning: Too few peaks detected to compute the rate. Returning empty vector.\n",
      "  warn(\n",
      "  2%|▏         | 7583/345797 [02:20<1:41:38, 55.46it/s]/home/josegfer/miniconda3/envs/li2021bat/lib/python3.8/site-packages/numpy/core/fromnumeric.py:3372: RuntimeWarning: Mean of empty slice.\n",
      "  return _methods._mean(a, axis=axis, dtype=dtype,\n",
      "/home/josegfer/miniconda3/envs/li2021bat/lib/python3.8/site-packages/neurokit2/signal/signal_period.py:60: NeuroKitWarning: Too few peaks detected to compute the rate. Returning empty vector.\n",
      "  warn(\n",
      "/home/josegfer/miniconda3/envs/li2021bat/lib/python3.8/site-packages/numpy/core/fromnumeric.py:3372: RuntimeWarning: Mean of empty slice.\n",
      "  return _methods._mean(a, axis=axis, dtype=dtype,\n",
      "/home/josegfer/miniconda3/envs/li2021bat/lib/python3.8/site-packages/neurokit2/signal/signal_period.py:60: NeuroKitWarning: Too few peaks detected to compute the rate. Returning empty vector.\n",
      "  warn(\n",
      "/home/josegfer/miniconda3/envs/li2021bat/lib/python3.8/site-packages/numpy/core/fromnumeric.py:3372: RuntimeWarning: Mean of empty slice.\n",
      "  return _methods._mean(a, axis=axis, dtype=dtype,\n",
      "/home/josegfer/miniconda3/envs/li2021bat/lib/python3.8/site-packages/neurokit2/signal/signal_period.py:60: NeuroKitWarning: Too few peaks detected to compute the rate. Returning empty vector.\n",
      "  warn(\n",
      "/home/josegfer/miniconda3/envs/li2021bat/lib/python3.8/site-packages/numpy/core/fromnumeric.py:3372: RuntimeWarning: Mean of empty slice.\n",
      "  return _methods._mean(a, axis=axis, dtype=dtype,\n",
      "/home/josegfer/miniconda3/envs/li2021bat/lib/python3.8/site-packages/neurokit2/signal/signal_period.py:60: NeuroKitWarning: Too few peaks detected to compute the rate. Returning empty vector.\n",
      "  warn(\n",
      "  2%|▏         | 7712/345797 [02:22<1:38:22, 57.27it/s]/home/josegfer/miniconda3/envs/li2021bat/lib/python3.8/site-packages/numpy/core/fromnumeric.py:3372: RuntimeWarning: Mean of empty slice.\n",
      "  return _methods._mean(a, axis=axis, dtype=dtype,\n",
      "/home/josegfer/miniconda3/envs/li2021bat/lib/python3.8/site-packages/neurokit2/signal/signal_period.py:60: NeuroKitWarning: Too few peaks detected to compute the rate. Returning empty vector.\n",
      "  warn(\n",
      "/home/josegfer/miniconda3/envs/li2021bat/lib/python3.8/site-packages/numpy/core/fromnumeric.py:3372: RuntimeWarning: Mean of empty slice.\n",
      "  return _methods._mean(a, axis=axis, dtype=dtype,\n",
      "/home/josegfer/miniconda3/envs/li2021bat/lib/python3.8/site-packages/neurokit2/signal/signal_period.py:60: NeuroKitWarning: Too few peaks detected to compute the rate. Returning empty vector.\n",
      "  warn(\n",
      "  2%|▏         | 7784/345797 [02:23<1:38:33, 57.16it/s]"
     ]
    }
   ],
   "source": [
    "remove = []\n",
    "for i in tqdm(range(num_files)):\n",
    "    recording = code15['tracings'][i].T\n",
    "\n",
    "    if (recording == 0).all(): # isoeletrico\n",
    "        remove.append(i)\n",
    "        continue\n",
    "    \n",
    "    try: # noise\n",
    "        scbeat, info2save = slide_and_cut_beat_aligned(recording, n_segment = 1, window_size = 5000, sampling_rate = 500, \n",
    "                                                       seg_with_r = False, beat_length = 400)\n",
    "    except:\n",
    "        remove.append(i)\n",
    "        continue"
   ]
  },
  {
   "cell_type": "code",
   "execution_count": 157,
   "metadata": {},
   "outputs": [],
   "source": [
    "num_files = code15['tracings'].shape[0]\n",
    "n_lead = 12\n",
    "n_segment = 10\n",
    "beat_length = 400\n",
    "n_classes = 6"
   ]
  },
  {
   "cell_type": "code",
   "execution_count": 158,
   "metadata": {},
   "outputs": [],
   "source": [
    "h5f = h5py.File('data/code15bat.h5', 'w')\n",
    "\n",
    "x = h5f.create_dataset('recording', (num_files - len(remove), n_lead, n_segment, beat_length), dtype = code15['tracings'].dtype)\n",
    "r = h5f.create_dataset('ratio', (num_files - len(remove), 1, n_segment), dtype='f8')\n",
    "y = h5f.create_dataset('label', (num_files - len(remove), n_classes), dtype='bool')\n",
    "# w = h5f.create_dataset('weight', (num_files, n_classes), dtype='f8')\n",
    "id = h5f.create_dataset('exam_id', shape = (num_files - len(remove),), dtype = code15['exam_id'].dtype)"
   ]
  },
  {
   "cell_type": "code",
   "execution_count": null,
   "metadata": {},
   "outputs": [],
   "source": [
    "ii = 0\n",
    "for i in tqdm(range(num_files)):\n",
    "    if i in remove:\n",
    "        continue\n",
    "    recording = code15['tracings'][i].T\n",
    "    exam_id = code15['exam_id'][i]\n",
    "\n",
    "    # resample\n",
    "    recording = just_resample(recording, sample_Fs = 400, resample_Fs = 500)\n",
    "\n",
    "    csv_idx = csv_indices[indices == exam_id]\n",
    "    assert exam_id == metadata['exam_id'].loc[csv_idx].values[0]\n",
    "    onehot = metadata[label_columns].loc[csv_idx].values\n",
    "\n",
    "    # slide and cut\n",
    "    scbeat, info2save = slide_and_cut_beat_aligned(recording, n_segment = 1, window_size = 5000, sampling_rate = 500, \n",
    "                                                   seg_with_r = False, beat_length = 400)\n",
    "    x[ii, :, :, :] = np.transpose(scbeat, (0, 2, 1, 3))\n",
    "    r[ii, :, :] = info2save\n",
    "    y[ii, :] = onehot\n",
    "    id[ii] = exam_id\n",
    "    ii += 1"
   ]
  },
  {
   "cell_type": "code",
   "execution_count": 183,
   "metadata": {},
   "outputs": [],
   "source": [
    "code15.close()\n",
    "h5f.close()"
   ]
  }
 ],
 "metadata": {
  "kernelspec": {
   "display_name": "li2021bat",
   "language": "python",
   "name": "python3"
  },
  "language_info": {
   "codemirror_mode": {
    "name": "ipython",
    "version": 3
   },
   "file_extension": ".py",
   "mimetype": "text/x-python",
   "name": "python",
   "nbconvert_exporter": "python",
   "pygments_lexer": "ipython3",
   "version": "3.8.8"
  }
 },
 "nbformat": 4,
 "nbformat_minor": 2
}
